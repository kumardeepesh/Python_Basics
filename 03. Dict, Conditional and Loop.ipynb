{
 "cells": [
  {
   "cell_type": "code",
   "execution_count": 1,
   "id": "ec7abc7b-105a-4a66-8e66-2eff3243fcf6",
   "metadata": {},
   "outputs": [],
   "source": [
    "d={}"
   ]
  },
  {
   "cell_type": "code",
   "execution_count": 2,
   "id": "b4cf32ee-424d-4548-a9ce-50b1cd1a6d9d",
   "metadata": {},
   "outputs": [
    {
     "data": {
      "text/plain": [
       "dict"
      ]
     },
     "execution_count": 2,
     "metadata": {},
     "output_type": "execute_result"
    }
   ],
   "source": [
    "type(d)"
   ]
  },
  {
   "cell_type": "code",
   "execution_count": 3,
   "id": "136e1995-b989-4b21-bf75-7330b33d1d2e",
   "metadata": {},
   "outputs": [],
   "source": [
    "d1={'key':\"ace\"}"
   ]
  },
  {
   "cell_type": "code",
   "execution_count": 4,
   "id": "6e1f52f5-c9ec-402b-a077-d8a8c5fe2887",
   "metadata": {},
   "outputs": [
    {
     "data": {
      "text/plain": [
       "{'key': 'ace'}"
      ]
     },
     "execution_count": 4,
     "metadata": {},
     "output_type": "execute_result"
    }
   ],
   "source": [
    "d1"
   ]
  },
  {
   "cell_type": "code",
   "execution_count": 5,
   "id": "92f1782d-1efa-4456-be18-1538a44bcdc2",
   "metadata": {},
   "outputs": [
    {
     "data": {
      "text/plain": [
       "dict"
      ]
     },
     "execution_count": 5,
     "metadata": {},
     "output_type": "execute_result"
    }
   ],
   "source": [
    "type(d1)"
   ]
  },
  {
   "cell_type": "code",
   "execution_count": 6,
   "id": "15a15536-da43-4cbc-9cbb-67718dd83cb4",
   "metadata": {},
   "outputs": [],
   "source": [
    "d2={'name': 'luffy','email':'one piece', 'work':'pirate'}"
   ]
  },
  {
   "cell_type": "code",
   "execution_count": 7,
   "id": "e4fbf84d-fc5a-4e70-86ae-0f6cf5253fc1",
   "metadata": {},
   "outputs": [
    {
     "data": {
      "text/plain": [
       "{'name': 'luffy', 'email': 'one piece', 'work': 'pirate'}"
      ]
     },
     "execution_count": 7,
     "metadata": {},
     "output_type": "execute_result"
    }
   ],
   "source": [
    "d2"
   ]
  },
  {
   "cell_type": "code",
   "execution_count": 8,
   "id": "521480b0-d23d-4285-baf0-0fd0055e6ecb",
   "metadata": {},
   "outputs": [],
   "source": [
    "d3={23:'two three','@a':'at the rate'}"
   ]
  },
  {
   "cell_type": "code",
   "execution_count": 9,
   "id": "be253b4a-898e-416b-b9d6-88fb601a970d",
   "metadata": {},
   "outputs": [],
   "source": [
    "d3={23:'two three','@a':'at the rate',True:756}"
   ]
  },
  {
   "cell_type": "code",
   "execution_count": 10,
   "id": "726f2b3c-e2e2-485d-bb78-bbf4c5f86431",
   "metadata": {},
   "outputs": [
    {
     "data": {
      "text/plain": [
       "{23: 'two three', '@a': 'at the rate', True: 756}"
      ]
     },
     "execution_count": 10,
     "metadata": {},
     "output_type": "execute_result"
    }
   ],
   "source": [
    "d3"
   ]
  },
  {
   "cell_type": "code",
   "execution_count": 11,
   "id": "2a5d8735-70b9-4f7a-86be-1b7c20ad22f9",
   "metadata": {},
   "outputs": [
    {
     "data": {
      "text/plain": [
       "'two three'"
      ]
     },
     "execution_count": 11,
     "metadata": {},
     "output_type": "execute_result"
    }
   ],
   "source": [
    "d3[23]"
   ]
  },
  {
   "cell_type": "code",
   "execution_count": 12,
   "id": "ad59eff6-632e-46fa-8386-886cf7300d7b",
   "metadata": {},
   "outputs": [
    {
     "data": {
      "text/plain": [
       "756"
      ]
     },
     "execution_count": 12,
     "metadata": {},
     "output_type": "execute_result"
    }
   ],
   "source": [
    "d3[True]"
   ]
  },
  {
   "cell_type": "code",
   "execution_count": 13,
   "id": "42b23293-56a4-4e79-a689-af730cd8ac82",
   "metadata": {},
   "outputs": [
    {
     "data": {
      "text/plain": [
       "756"
      ]
     },
     "execution_count": 13,
     "metadata": {},
     "output_type": "execute_result"
    }
   ],
   "source": [
    "d3[1]"
   ]
  },
  {
   "cell_type": "code",
   "execution_count": 14,
   "id": "ce494398-dce1-4b0b-abdb-d8ce3ce3a5b5",
   "metadata": {},
   "outputs": [],
   "source": [
    "d4={'name': 'luffy','email':'one piece', 'name':'Monkey D Luffy'}"
   ]
  },
  {
   "cell_type": "code",
   "execution_count": 15,
   "id": "29b4a2b1-a0bf-45fd-b63c-5dcc5cbc0ab8",
   "metadata": {},
   "outputs": [
    {
     "data": {
      "text/plain": [
       "'Monkey D Luffy'"
      ]
     },
     "execution_count": 15,
     "metadata": {},
     "output_type": "execute_result"
    }
   ],
   "source": [
    "d4['name']"
   ]
  },
  {
   "cell_type": "code",
   "execution_count": 16,
   "id": "c930a8d0-7614-4f19-a5e3-d96f8f757414",
   "metadata": {},
   "outputs": [],
   "source": [
    "d5={'company':'toei','projects':['one piece','dragon ball','digimon']}"
   ]
  },
  {
   "cell_type": "code",
   "execution_count": 17,
   "id": "d7ed0134-536d-44f5-97d1-29407dcb7f7a",
   "metadata": {},
   "outputs": [
    {
     "data": {
      "text/plain": [
       "{'company': 'toei', 'projects': ['one piece', 'dragon ball', 'digimon']}"
      ]
     },
     "execution_count": 17,
     "metadata": {},
     "output_type": "execute_result"
    }
   ],
   "source": [
    "d5"
   ]
  },
  {
   "cell_type": "code",
   "execution_count": 18,
   "id": "2fc6b943-df4c-445b-a7ea-7713c4d67a6f",
   "metadata": {},
   "outputs": [
    {
     "data": {
      "text/plain": [
       "['one piece', 'dragon ball', 'digimon']"
      ]
     },
     "execution_count": 18,
     "metadata": {},
     "output_type": "execute_result"
    }
   ],
   "source": [
    "d5[\"projects\"]"
   ]
  },
  {
   "cell_type": "code",
   "execution_count": 19,
   "id": "481de8ef-7bd9-4dfb-b716-545e6732e8d4",
   "metadata": {},
   "outputs": [
    {
     "data": {
      "text/plain": [
       "'digimon'"
      ]
     },
     "execution_count": 19,
     "metadata": {},
     "output_type": "execute_result"
    }
   ],
   "source": [
    "d5[\"projects\"][2]"
   ]
  },
  {
   "cell_type": "code",
   "execution_count": 20,
   "id": "a51ea3bb-13fe-4a88-86eb-031e6eb71dbe",
   "metadata": {},
   "outputs": [],
   "source": [
    "d6={'number':[61,92,91,56,95,93,56],'assignments':(1,2,3,4,5,6,7),\"date\":{12,15,18}}"
   ]
  },
  {
   "cell_type": "code",
   "execution_count": 21,
   "id": "5a4be0be-fc21-4af8-bf7d-6df6578c2eb9",
   "metadata": {},
   "outputs": [],
   "source": [
    "d6={'number':[61,92,91,56,95,93,56],'assignments':(1,2,3,4,5,6,7),\"date\":{12,15,18},'class_time':{\"dev\":7,\"dsm\":8,\"javadsa\":7}}"
   ]
  },
  {
   "cell_type": "code",
   "execution_count": 22,
   "id": "71ded601-3c21-4def-b53c-d5000464e059",
   "metadata": {},
   "outputs": [
    {
     "data": {
      "text/plain": [
       "{'number': [61, 92, 91, 56, 95, 93, 56],\n",
       " 'assignments': (1, 2, 3, 4, 5, 6, 7),\n",
       " 'date': {12, 15, 18},\n",
       " 'class_time': {'dev': 7, 'dsm': 8, 'javadsa': 7}}"
      ]
     },
     "execution_count": 22,
     "metadata": {},
     "output_type": "execute_result"
    }
   ],
   "source": [
    "d6"
   ]
  },
  {
   "cell_type": "code",
   "execution_count": 23,
   "id": "8b4a260b-2eca-45f9-90b0-fd715ff225b0",
   "metadata": {},
   "outputs": [
    {
     "data": {
      "text/plain": [
       "7"
      ]
     },
     "execution_count": 23,
     "metadata": {},
     "output_type": "execute_result"
    }
   ],
   "source": [
    "d6['class_time']['javadsa']"
   ]
  },
  {
   "cell_type": "code",
   "execution_count": 24,
   "id": "1931468e-bc87-49cf-849e-58cac0c139cc",
   "metadata": {},
   "outputs": [],
   "source": [
    "d6['teacher']=['s','k','a','h']"
   ]
  },
  {
   "cell_type": "code",
   "execution_count": 25,
   "id": "1274a84f-ebbb-4dd1-8e39-bab013138450",
   "metadata": {},
   "outputs": [
    {
     "data": {
      "text/plain": [
       "{'number': [61, 92, 91, 56, 95, 93, 56],\n",
       " 'assignments': (1, 2, 3, 4, 5, 6, 7),\n",
       " 'date': {12, 15, 18},\n",
       " 'class_time': {'dev': 7, 'dsm': 8, 'javadsa': 7},\n",
       " 'teacher': ['s', 'k', 'a', 'h']}"
      ]
     },
     "execution_count": 25,
     "metadata": {},
     "output_type": "execute_result"
    }
   ],
   "source": [
    "d6"
   ]
  },
  {
   "cell_type": "code",
   "execution_count": 26,
   "id": "d2d43655-4445-4d9c-900f-9b55d5596454",
   "metadata": {},
   "outputs": [],
   "source": [
    "del d6['number']"
   ]
  },
  {
   "cell_type": "code",
   "execution_count": 27,
   "id": "40efba3e-1066-4648-97b3-953c9b50483c",
   "metadata": {},
   "outputs": [
    {
     "data": {
      "text/plain": [
       "{'assignments': (1, 2, 3, 4, 5, 6, 7),\n",
       " 'date': {12, 15, 18},\n",
       " 'class_time': {'dev': 7, 'dsm': 8, 'javadsa': 7},\n",
       " 'teacher': ['s', 'k', 'a', 'h']}"
      ]
     },
     "execution_count": 27,
     "metadata": {},
     "output_type": "execute_result"
    }
   ],
   "source": [
    "d6"
   ]
  },
  {
   "cell_type": "code",
   "execution_count": 28,
   "id": "15a2149c-fef5-4cd6-a426-4bcd2ae14227",
   "metadata": {},
   "outputs": [
    {
     "data": {
      "text/plain": [
       "dict_keys(['assignments', 'date', 'class_time', 'teacher'])"
      ]
     },
     "execution_count": 28,
     "metadata": {},
     "output_type": "execute_result"
    }
   ],
   "source": [
    "d6.keys()"
   ]
  },
  {
   "cell_type": "code",
   "execution_count": 29,
   "id": "da63568e-0085-4537-8ddf-451ea465198c",
   "metadata": {},
   "outputs": [
    {
     "data": {
      "text/plain": [
       "['assignments', 'date', 'class_time', 'teacher']"
      ]
     },
     "execution_count": 29,
     "metadata": {},
     "output_type": "execute_result"
    }
   ],
   "source": [
    "list(d6.keys())"
   ]
  },
  {
   "cell_type": "code",
   "execution_count": 30,
   "id": "21919bbe-d0c2-422b-95ea-42716d9fb6be",
   "metadata": {},
   "outputs": [
    {
     "data": {
      "text/plain": [
       "dict_values([(1, 2, 3, 4, 5, 6, 7), {18, 12, 15}, {'dev': 7, 'dsm': 8, 'javadsa': 7}, ['s', 'k', 'a', 'h']])"
      ]
     },
     "execution_count": 30,
     "metadata": {},
     "output_type": "execute_result"
    }
   ],
   "source": [
    "d6.values()"
   ]
  },
  {
   "cell_type": "code",
   "execution_count": 31,
   "id": "99c052f1-a05c-479b-a0b4-d9cfa95b260f",
   "metadata": {},
   "outputs": [
    {
     "data": {
      "text/plain": [
       "[(1, 2, 3, 4, 5, 6, 7),\n",
       " {12, 15, 18},\n",
       " {'dev': 7, 'dsm': 8, 'javadsa': 7},\n",
       " ['s', 'k', 'a', 'h']]"
      ]
     },
     "execution_count": 31,
     "metadata": {},
     "output_type": "execute_result"
    }
   ],
   "source": [
    "list(d6.values())"
   ]
  },
  {
   "cell_type": "code",
   "execution_count": 32,
   "id": "a8236f40-a6e9-4716-8b37-10cdaae13a55",
   "metadata": {},
   "outputs": [
    {
     "data": {
      "text/plain": [
       "dict_items([('assignments', (1, 2, 3, 4, 5, 6, 7)), ('date', {18, 12, 15}), ('class_time', {'dev': 7, 'dsm': 8, 'javadsa': 7}), ('teacher', ['s', 'k', 'a', 'h'])])"
      ]
     },
     "execution_count": 32,
     "metadata": {},
     "output_type": "execute_result"
    }
   ],
   "source": [
    "d6.items()"
   ]
  },
  {
   "cell_type": "code",
   "execution_count": 33,
   "id": "89f4d9f8-24d8-4ead-abb9-5f33af4c2524",
   "metadata": {},
   "outputs": [
    {
     "data": {
      "text/plain": [
       "[('assignments', (1, 2, 3, 4, 5, 6, 7)),\n",
       " ('date', {12, 15, 18}),\n",
       " ('class_time', {'dev': 7, 'dsm': 8, 'javadsa': 7}),\n",
       " ('teacher', ['s', 'k', 'a', 'h'])]"
      ]
     },
     "execution_count": 33,
     "metadata": {},
     "output_type": "execute_result"
    }
   ],
   "source": [
    "list(d6.items())"
   ]
  },
  {
   "cell_type": "code",
   "execution_count": 34,
   "id": "4f10fc82-a9fc-4474-a818-bafc6ba21423",
   "metadata": {},
   "outputs": [
    {
     "data": {
      "text/plain": [
       "(1, 2, 3, 4, 5, 6, 7)"
      ]
     },
     "execution_count": 34,
     "metadata": {},
     "output_type": "execute_result"
    }
   ],
   "source": [
    "d6.pop('assignments')"
   ]
  },
  {
   "cell_type": "code",
   "execution_count": 35,
   "id": "c22b6fb8-356a-42e2-92f7-96c3695ae8f8",
   "metadata": {},
   "outputs": [
    {
     "data": {
      "text/plain": [
       "{'date': {12, 15, 18},\n",
       " 'class_time': {'dev': 7, 'dsm': 8, 'javadsa': 7},\n",
       " 'teacher': ['s', 'k', 'a', 'h']}"
      ]
     },
     "execution_count": 35,
     "metadata": {},
     "output_type": "execute_result"
    }
   ],
   "source": [
    "d6"
   ]
  },
  {
   "cell_type": "code",
   "execution_count": 36,
   "id": "d333984f-5fa0-45db-92e4-5f972849e294",
   "metadata": {},
   "outputs": [
    {
     "ename": "TypeError",
     "evalue": "pop expected at least 1 argument, got 0",
     "output_type": "error",
     "traceback": [
      "\u001b[0;31m---------------------------------------------------------------------------\u001b[0m",
      "\u001b[0;31mTypeError\u001b[0m                                 Traceback (most recent call last)",
      "Cell \u001b[0;32mIn[36], line 1\u001b[0m\n\u001b[0;32m----> 1\u001b[0m \u001b[43md6\u001b[49m\u001b[38;5;241;43m.\u001b[39;49m\u001b[43mpop\u001b[49m\u001b[43m(\u001b[49m\u001b[43m)\u001b[49m\n",
      "\u001b[0;31mTypeError\u001b[0m: pop expected at least 1 argument, got 0"
     ]
    }
   ],
   "source": [
    "d6.pop()"
   ]
  },
  {
   "cell_type": "code",
   "execution_count": 37,
   "id": "6dd2b672-5ea8-4205-951e-8736bcacacb7",
   "metadata": {},
   "outputs": [
    {
     "name": "stdin",
     "output_type": "stream",
     "text": [
      "enter marks 76\n"
     ]
    },
    {
     "name": "stdout",
     "output_type": "stream",
     "text": [
      "A1\n"
     ]
    }
   ],
   "source": [
    "marks=int(input('enter marks'))\n",
    "if marks>=80:\n",
    "    print('A0')\n",
    "elif marks>=60 and marks<80:\n",
    "    print('A1')\n",
    "elif marks>=40 and marks<60:\n",
    "    print('A2')\n",
    "else:\n",
    "    print('A3')"
   ]
  },
  {
   "cell_type": "code",
   "execution_count": 38,
   "id": "e81c21df-eb48-47b2-90be-dfc343084f70",
   "metadata": {},
   "outputs": [
    {
     "name": "stdin",
     "output_type": "stream",
     "text": [
      "enter price 400\n"
     ]
    },
    {
     "name": "stdout",
     "output_type": "stream",
     "text": [
      "purchase\n"
     ]
    }
   ],
   "source": [
    "price=int(input('enter price'))\n",
    "if price>1000:\n",
    "    print('dont purchase')\n",
    "else:\n",
    "    print('purchase')"
   ]
  },
  {
   "cell_type": "code",
   "execution_count": 39,
   "id": "4703a52d-86b2-479f-9c28-3adf0e2da2d4",
   "metadata": {},
   "outputs": [
    {
     "name": "stdin",
     "output_type": "stream",
     "text": [
      "enter price 7000\n"
     ]
    },
    {
     "name": "stdout",
     "output_type": "stream",
     "text": [
      "dont purchase\n",
      "too expensive\n"
     ]
    }
   ],
   "source": [
    "price=int(input('enter price'))\n",
    "if price>1000:\n",
    "    print('dont purchase')\n",
    "    if price>5000:\n",
    "        print('too expensive')"
   ]
  },
  {
   "cell_type": "code",
   "execution_count": 40,
   "id": "258b1a89-63d0-41c4-a07e-ec21bbfab1f5",
   "metadata": {},
   "outputs": [],
   "source": [
    "l=[1,2,3,4,5,6,7,8,9]"
   ]
  },
  {
   "cell_type": "code",
   "execution_count": 41,
   "id": "0fb0a173-88d4-462a-9ed2-e2c22ce64ce9",
   "metadata": {},
   "outputs": [
    {
     "data": {
      "text/plain": [
       "[2, 3, 4, 5, 6, 7, 8, 9, 10]"
      ]
     },
     "execution_count": 41,
     "metadata": {},
     "output_type": "execute_result"
    }
   ],
   "source": [
    "l1=[]\n",
    "for i in l:\n",
    "    l1.append(i+1)\n",
    "l1"
   ]
  },
  {
   "cell_type": "code",
   "execution_count": 42,
   "id": "e3f83650-bd0a-4b10-ac5d-363dd730a63e",
   "metadata": {},
   "outputs": [],
   "source": [
    "l=['ace','sabo','luffy','garp']"
   ]
  },
  {
   "cell_type": "code",
   "execution_count": 43,
   "id": "61651fd2-656b-48a3-8021-3650c29b7d77",
   "metadata": {},
   "outputs": [
    {
     "data": {
      "text/plain": [
       "['ACE', 'SABO', 'LUFFY', 'GARP']"
      ]
     },
     "execution_count": 43,
     "metadata": {},
     "output_type": "execute_result"
    }
   ],
   "source": [
    "l1=[]\n",
    "for i in l:\n",
    "    l1.append(i.upper())\n",
    "l1"
   ]
  },
  {
   "cell_type": "code",
   "execution_count": 44,
   "id": "f9d3450c-df09-46d9-a6be-e8bcffffc24d",
   "metadata": {},
   "outputs": [],
   "source": [
    "l=[1,2,3,4,5,6,'ace','sabo','luffy','garp',89.6678,78.455]"
   ]
  },
  {
   "cell_type": "code",
   "execution_count": 45,
   "id": "2059a746-866b-46a1-a993-d47f4c17d054",
   "metadata": {},
   "outputs": [
    {
     "name": "stdout",
     "output_type": "stream",
     "text": [
      "[1, 2, 3, 4, 5, 6, 89.6678, 78.455] ['ace', 'sabo', 'luffy', 'garp']\n"
     ]
    }
   ],
   "source": [
    "num=[]\n",
    "st=[]\n",
    "for i in l:\n",
    "    if type(i)==int or type(i)==float:\n",
    "        num.append(i)\n",
    "    else:\n",
    "        st.append(i)\n",
    "print(num,st)"
   ]
  }
 ],
 "metadata": {
  "kernelspec": {
   "display_name": "Python 3 (ipykernel)",
   "language": "python",
   "name": "python3"
  },
  "language_info": {
   "codemirror_mode": {
    "name": "ipython",
    "version": 3
   },
   "file_extension": ".py",
   "mimetype": "text/x-python",
   "name": "python",
   "nbconvert_exporter": "python",
   "pygments_lexer": "ipython3",
   "version": "3.10.8"
  }
 },
 "nbformat": 4,
 "nbformat_minor": 5
}
