{
 "cells": [
  {
   "cell_type": "code",
   "execution_count": 1,
   "id": "b6a6a85b-872f-435b-b52b-391965b43bdb",
   "metadata": {},
   "outputs": [],
   "source": [
    "a=[12,87,6.5346,True,2+8j,\"asdfgh\"]"
   ]
  },
  {
   "cell_type": "code",
   "execution_count": 2,
   "id": "e085da54-23e5-4f5d-bba8-df037dac6f14",
   "metadata": {
    "tags": []
   },
   "outputs": [
    {
     "data": {
      "text/plain": [
       "[12, 87, 6.5346, True, (2+8j), 'asdfgh']"
      ]
     },
     "execution_count": 2,
     "metadata": {},
     "output_type": "execute_result"
    }
   ],
   "source": [
    "a"
   ]
  },
  {
   "cell_type": "code",
   "execution_count": 3,
   "id": "d7462281-c4cf-4347-a2c5-a293d18979b0",
   "metadata": {},
   "outputs": [
    {
     "data": {
      "text/plain": [
       "list"
      ]
     },
     "execution_count": 3,
     "metadata": {},
     "output_type": "execute_result"
    }
   ],
   "source": [
    "type(a)"
   ]
  },
  {
   "cell_type": "code",
   "execution_count": 4,
   "id": "c1859118-4e16-4cdc-a335-7ad6f12f322b",
   "metadata": {},
   "outputs": [
    {
     "data": {
      "text/plain": [
       "87"
      ]
     },
     "execution_count": 4,
     "metadata": {},
     "output_type": "execute_result"
    }
   ],
   "source": [
    "a[1]"
   ]
  },
  {
   "cell_type": "code",
   "execution_count": 5,
   "id": "d67debaa-d39d-4a4a-bef4-81b6cff509a1",
   "metadata": {},
   "outputs": [
    {
     "data": {
      "text/plain": [
       "[87, True, 'asdfgh']"
      ]
     },
     "execution_count": 5,
     "metadata": {},
     "output_type": "execute_result"
    }
   ],
   "source": [
    "a[1:90:2]"
   ]
  },
  {
   "cell_type": "code",
   "execution_count": 6,
   "id": "667671c6-1a0c-45ed-a617-e813fec49e37",
   "metadata": {},
   "outputs": [
    {
     "data": {
      "text/plain": [
       "['asdfgh', (2+8j), True, 6.5346, 87, 12]"
      ]
     },
     "execution_count": 6,
     "metadata": {},
     "output_type": "execute_result"
    }
   ],
   "source": [
    "a[::-1]"
   ]
  },
  {
   "cell_type": "code",
   "execution_count": 7,
   "id": "6f291404-c458-42f3-8280-4089872afdc7",
   "metadata": {},
   "outputs": [
    {
     "data": {
      "text/plain": [
       "'asdfgh'"
      ]
     },
     "execution_count": 7,
     "metadata": {},
     "output_type": "execute_result"
    }
   ],
   "source": [
    "a[-1]"
   ]
  },
  {
   "cell_type": "code",
   "execution_count": 8,
   "id": "54d3d940-0595-48c8-97a1-306193f68e12",
   "metadata": {},
   "outputs": [
    {
     "data": {
      "text/plain": [
       "[12, 6.5346, (2+8j)]"
      ]
     },
     "execution_count": 8,
     "metadata": {},
     "output_type": "execute_result"
    }
   ],
   "source": [
    "a[::2]"
   ]
  },
  {
   "cell_type": "code",
   "execution_count": 9,
   "id": "6e861878-0bca-429b-8110-0f5eec6bf1ac",
   "metadata": {},
   "outputs": [
    {
     "data": {
      "text/plain": [
       "['asdfgh', True, 87]"
      ]
     },
     "execution_count": 9,
     "metadata": {},
     "output_type": "execute_result"
    }
   ],
   "source": [
    "a[::-2]"
   ]
  },
  {
   "cell_type": "code",
   "execution_count": 10,
   "id": "368b19ce-34aa-48fc-ada8-91fc9135530f",
   "metadata": {},
   "outputs": [],
   "source": [
    "b='qrtwyui'"
   ]
  },
  {
   "cell_type": "code",
   "execution_count": 11,
   "id": "fff54de6-93f6-45b2-9d37-4aa64b249a5f",
   "metadata": {},
   "outputs": [
    {
     "data": {
      "text/plain": [
       "['q', 'r', 't', 'w', 'y', 'u', 'i']"
      ]
     },
     "execution_count": 11,
     "metadata": {},
     "output_type": "execute_result"
    }
   ],
   "source": [
    "list(b)"
   ]
  },
  {
   "cell_type": "code",
   "execution_count": 12,
   "id": "ccdf8e0b-a3c8-441d-8d4d-d49076d42f86",
   "metadata": {},
   "outputs": [
    {
     "data": {
      "text/plain": [
       "[12, 87, 6.5346, True, (2+8j), 'asdfgh']"
      ]
     },
     "execution_count": 12,
     "metadata": {},
     "output_type": "execute_result"
    }
   ],
   "source": [
    "a"
   ]
  },
  {
   "cell_type": "code",
   "execution_count": 13,
   "id": "ae7173c3-8ce1-49c0-bd72-dc523d69fbf0",
   "metadata": {},
   "outputs": [
    {
     "data": {
      "text/plain": [
       "'as'"
      ]
     },
     "execution_count": 13,
     "metadata": {},
     "output_type": "execute_result"
    }
   ],
   "source": [
    "a[5][0:2]"
   ]
  },
  {
   "cell_type": "code",
   "execution_count": 14,
   "id": "98414089-e931-4e1e-92cd-4a8372a5eade",
   "metadata": {},
   "outputs": [
    {
     "ename": "TypeError",
     "evalue": "'bool' object is not subscriptable",
     "output_type": "error",
     "traceback": [
      "\u001b[0;31m---------------------------------------------------------------------------\u001b[0m",
      "\u001b[0;31mTypeError\u001b[0m                                 Traceback (most recent call last)",
      "Cell \u001b[0;32mIn[14], line 1\u001b[0m\n\u001b[0;32m----> 1\u001b[0m \u001b[43ma\u001b[49m\u001b[43m[\u001b[49m\u001b[38;5;241;43m3\u001b[39;49m\u001b[43m]\u001b[49m\u001b[43m[\u001b[49m\u001b[38;5;241;43m0\u001b[39;49m\u001b[43m:\u001b[49m\u001b[38;5;241;43m2\u001b[39;49m\u001b[43m]\u001b[49m\n",
      "\u001b[0;31mTypeError\u001b[0m: 'bool' object is not subscriptable"
     ]
    }
   ],
   "source": [
    "a[3][0:2]"
   ]
  },
  {
   "cell_type": "code",
   "execution_count": 15,
   "id": "9747c3ec-0fdf-4a35-813c-d66ee3967acb",
   "metadata": {},
   "outputs": [
    {
     "data": {
      "text/plain": [
       "'Tr'"
      ]
     },
     "execution_count": 15,
     "metadata": {},
     "output_type": "execute_result"
    }
   ],
   "source": [
    "str(a[3])[0:2]"
   ]
  },
  {
   "cell_type": "code",
   "execution_count": 16,
   "id": "eced7461-303f-47b0-8454-324679efdead",
   "metadata": {},
   "outputs": [
    {
     "data": {
      "text/plain": [
       "92"
      ]
     },
     "execution_count": 16,
     "metadata": {},
     "output_type": "execute_result"
    }
   ],
   "source": [
    "a[1]+5"
   ]
  },
  {
   "cell_type": "code",
   "execution_count": 17,
   "id": "b3a99f6b-d8c0-4cd8-9b72-fec00700c24f",
   "metadata": {},
   "outputs": [
    {
     "data": {
      "text/plain": [
       "[12, 87, 6.5346, True, (2+8j), 'asdfgh', 5]"
      ]
     },
     "execution_count": 17,
     "metadata": {},
     "output_type": "execute_result"
    }
   ],
   "source": [
    "a+[5]"
   ]
  },
  {
   "cell_type": "code",
   "execution_count": 18,
   "id": "168a968b-6644-45d2-8fbb-81fe03a9019e",
   "metadata": {},
   "outputs": [],
   "source": [
    "c=[23,95,2345]"
   ]
  },
  {
   "cell_type": "code",
   "execution_count": 19,
   "id": "baf787c9-eade-47f9-b12a-1af00420177c",
   "metadata": {},
   "outputs": [
    {
     "data": {
      "text/plain": [
       "[12, 87, 6.5346, True, (2+8j), 'asdfgh', 23, 95, 2345]"
      ]
     },
     "execution_count": 19,
     "metadata": {},
     "output_type": "execute_result"
    }
   ],
   "source": [
    "a+c"
   ]
  },
  {
   "cell_type": "code",
   "execution_count": 20,
   "id": "637e9cf2-083f-4916-b314-9f5a3cb55a6c",
   "metadata": {},
   "outputs": [
    {
     "data": {
      "text/plain": [
       "[23, 95, 2345, 23, 95, 2345, 23, 95, 2345]"
      ]
     },
     "execution_count": 20,
     "metadata": {},
     "output_type": "execute_result"
    }
   ],
   "source": [
    "c*3"
   ]
  },
  {
   "cell_type": "code",
   "execution_count": 21,
   "id": "95305170-bfc9-434f-95fc-306094e7142a",
   "metadata": {},
   "outputs": [
    {
     "data": {
      "text/plain": [
       "[12, 87, 6.5346, True, (2+8j), 'asdfgh']"
      ]
     },
     "execution_count": 21,
     "metadata": {},
     "output_type": "execute_result"
    }
   ],
   "source": [
    "len(a)\n",
    "a"
   ]
  },
  {
   "cell_type": "code",
   "execution_count": 22,
   "id": "288d7b0c-2eab-48a8-a1d6-d369bf1ba21f",
   "metadata": {},
   "outputs": [
    {
     "data": {
      "text/plain": [
       "[12, 87, 6.5346, True, (2+8j), 'asdfgh', 5]"
      ]
     },
     "execution_count": 22,
     "metadata": {},
     "output_type": "execute_result"
    }
   ],
   "source": [
    "a.append(5)\n",
    "a"
   ]
  },
  {
   "cell_type": "code",
   "execution_count": 23,
   "id": "90cf5222-a60f-4eea-9690-737a797da2ac",
   "metadata": {},
   "outputs": [],
   "source": [
    "a.append(b)"
   ]
  },
  {
   "cell_type": "code",
   "execution_count": 24,
   "id": "f97c9056-142c-4326-b5e0-9dcaafa74872",
   "metadata": {},
   "outputs": [
    {
     "data": {
      "text/plain": [
       "[12, 87, 6.5346, True, (2+8j), 'asdfgh', 5, 'qrtwyui']"
      ]
     },
     "execution_count": 24,
     "metadata": {},
     "output_type": "execute_result"
    }
   ],
   "source": [
    "a"
   ]
  },
  {
   "cell_type": "code",
   "execution_count": 25,
   "id": "7b38439a-a46c-4e89-a885-850df81a4b39",
   "metadata": {},
   "outputs": [],
   "source": [
    "a.append(c)"
   ]
  },
  {
   "cell_type": "code",
   "execution_count": 26,
   "id": "e812dd66-39cb-44fc-a319-e89d162758a6",
   "metadata": {},
   "outputs": [
    {
     "data": {
      "text/plain": [
       "[12, 87, 6.5346, True, (2+8j), 'asdfgh', 5, 'qrtwyui', [23, 95, 2345]]"
      ]
     },
     "execution_count": 26,
     "metadata": {},
     "output_type": "execute_result"
    }
   ],
   "source": [
    "a"
   ]
  },
  {
   "cell_type": "code",
   "execution_count": 27,
   "id": "b553f802-11f3-4ee9-b24e-49184f853064",
   "metadata": {},
   "outputs": [
    {
     "data": {
      "text/plain": [
       "95"
      ]
     },
     "execution_count": 27,
     "metadata": {},
     "output_type": "execute_result"
    }
   ],
   "source": [
    "a[-1][1]"
   ]
  },
  {
   "cell_type": "code",
   "execution_count": 28,
   "id": "0f421941-de0e-48df-aaea-b97b28dfd7a3",
   "metadata": {},
   "outputs": [
    {
     "data": {
      "text/plain": [
       "[23, 95, 2345]"
      ]
     },
     "execution_count": 28,
     "metadata": {},
     "output_type": "execute_result"
    }
   ],
   "source": [
    "a[8]"
   ]
  },
  {
   "cell_type": "code",
   "execution_count": 29,
   "id": "eb50d2cc-9caf-4b60-a83f-125939168ad2",
   "metadata": {},
   "outputs": [
    {
     "data": {
      "text/plain": [
       "[23, 95, 2345]"
      ]
     },
     "execution_count": 29,
     "metadata": {},
     "output_type": "execute_result"
    }
   ],
   "source": [
    "a[-1]"
   ]
  },
  {
   "cell_type": "code",
   "execution_count": 30,
   "id": "2eec309f-04eb-4134-8726-fa51aad628d7",
   "metadata": {},
   "outputs": [
    {
     "data": {
      "text/plain": [
       "[2345, 95, 23]"
      ]
     },
     "execution_count": 30,
     "metadata": {},
     "output_type": "execute_result"
    }
   ],
   "source": [
    "a[-1][::-1]"
   ]
  },
  {
   "cell_type": "code",
   "execution_count": 31,
   "id": "3ada9099-c50a-41eb-8e91-dd93b6780d57",
   "metadata": {},
   "outputs": [
    {
     "data": {
      "text/plain": [
       "[12, 87, 6.5346, True, (2+8j), 'asdfgh', 5, 'qrtwyui', [23, 95, 2345]]"
      ]
     },
     "execution_count": 31,
     "metadata": {},
     "output_type": "execute_result"
    }
   ],
   "source": [
    "a"
   ]
  },
  {
   "cell_type": "code",
   "execution_count": 32,
   "id": "bc53f8b5-6f50-4425-9b2f-4471e9bc4baa",
   "metadata": {},
   "outputs": [],
   "source": [
    "a.extend('qwerttyy')"
   ]
  },
  {
   "cell_type": "code",
   "execution_count": 33,
   "id": "ead073d7-6dda-4aae-bdcc-cf328e9ee0b6",
   "metadata": {},
   "outputs": [
    {
     "data": {
      "text/plain": [
       "[12,\n",
       " 87,\n",
       " 6.5346,\n",
       " True,\n",
       " (2+8j),\n",
       " 'asdfgh',\n",
       " 5,\n",
       " 'qrtwyui',\n",
       " [23, 95, 2345],\n",
       " 'q',\n",
       " 'w',\n",
       " 'e',\n",
       " 'r',\n",
       " 't',\n",
       " 't',\n",
       " 'y',\n",
       " 'y']"
      ]
     },
     "execution_count": 33,
     "metadata": {},
     "output_type": "execute_result"
    }
   ],
   "source": [
    "a"
   ]
  },
  {
   "cell_type": "code",
   "execution_count": 34,
   "id": "48be75e9-8c22-4ab9-b374-da18245464b6",
   "metadata": {},
   "outputs": [],
   "source": [
    "a.extend([1,2,3])"
   ]
  },
  {
   "cell_type": "code",
   "execution_count": 35,
   "id": "b615a2c9-5a20-4193-8f1a-2b848532b54a",
   "metadata": {},
   "outputs": [
    {
     "data": {
      "text/plain": [
       "[12,\n",
       " 87,\n",
       " 6.5346,\n",
       " True,\n",
       " (2+8j),\n",
       " 'asdfgh',\n",
       " 5,\n",
       " 'qrtwyui',\n",
       " [23, 95, 2345],\n",
       " 'q',\n",
       " 'w',\n",
       " 'e',\n",
       " 'r',\n",
       " 't',\n",
       " 't',\n",
       " 'y',\n",
       " 'y',\n",
       " 1,\n",
       " 2,\n",
       " 3]"
      ]
     },
     "execution_count": 35,
     "metadata": {},
     "output_type": "execute_result"
    }
   ],
   "source": [
    "a"
   ]
  },
  {
   "cell_type": "code",
   "execution_count": 36,
   "id": "9d4598e3-bd73-428b-93f2-83ab3e41aac6",
   "metadata": {},
   "outputs": [],
   "source": [
    "a.append('rdfcxser')"
   ]
  },
  {
   "cell_type": "code",
   "execution_count": 37,
   "id": "19c6caff-979d-4095-adf2-a0fecff4f3ca",
   "metadata": {},
   "outputs": [
    {
     "data": {
      "text/plain": [
       "[12,\n",
       " 87,\n",
       " 6.5346,\n",
       " True,\n",
       " (2+8j),\n",
       " 'asdfgh',\n",
       " 5,\n",
       " 'qrtwyui',\n",
       " [23, 95, 2345],\n",
       " 'q',\n",
       " 'w',\n",
       " 'e',\n",
       " 'r',\n",
       " 't',\n",
       " 't',\n",
       " 'y',\n",
       " 'y',\n",
       " 1,\n",
       " 2,\n",
       " 3,\n",
       " 'rdfcxser']"
      ]
     },
     "execution_count": 37,
     "metadata": {},
     "output_type": "execute_result"
    }
   ],
   "source": [
    "a"
   ]
  },
  {
   "cell_type": "code",
   "execution_count": 38,
   "id": "310189af-cbfa-417c-84b5-f358bf1f0a3d",
   "metadata": {},
   "outputs": [
    {
     "data": {
      "text/plain": [
       "[23, 95, 2345]"
      ]
     },
     "execution_count": 38,
     "metadata": {},
     "output_type": "execute_result"
    }
   ],
   "source": [
    "c"
   ]
  },
  {
   "cell_type": "code",
   "execution_count": 39,
   "id": "36d1670e-a5cf-4e9f-97b1-31f8cde6cd26",
   "metadata": {},
   "outputs": [],
   "source": [
    "c.insert(0,'aws')"
   ]
  },
  {
   "cell_type": "code",
   "execution_count": 40,
   "id": "b287f685-d470-46e7-983d-5a3490194178",
   "metadata": {},
   "outputs": [
    {
     "data": {
      "text/plain": [
       "['aws', 23, 95, 2345]"
      ]
     },
     "execution_count": 40,
     "metadata": {},
     "output_type": "execute_result"
    }
   ],
   "source": [
    "c"
   ]
  },
  {
   "cell_type": "code",
   "execution_count": 41,
   "id": "53f4fd11-007e-4287-8ba7-e35a50a59ed8",
   "metadata": {},
   "outputs": [],
   "source": [
    "c.insert(2,[5,7,9])"
   ]
  },
  {
   "cell_type": "code",
   "execution_count": 42,
   "id": "809dd518-1100-40b1-aa61-9beebb6e55e7",
   "metadata": {},
   "outputs": [
    {
     "data": {
      "text/plain": [
       "['aws', 23, [5, 7, 9], 95, 2345]"
      ]
     },
     "execution_count": 42,
     "metadata": {},
     "output_type": "execute_result"
    }
   ],
   "source": [
    "c"
   ]
  },
  {
   "cell_type": "code",
   "execution_count": 43,
   "id": "5379de79-b169-409d-a6a3-dfe1f6e27140",
   "metadata": {},
   "outputs": [],
   "source": [
    "c.insert(-1,'tra')"
   ]
  },
  {
   "cell_type": "code",
   "execution_count": 44,
   "id": "2d3b42d9-f811-49b0-8d7b-7f0209347fee",
   "metadata": {},
   "outputs": [
    {
     "data": {
      "text/plain": [
       "['aws', 23, [5, 7, 9], 95, 'tra', 2345]"
      ]
     },
     "execution_count": 44,
     "metadata": {},
     "output_type": "execute_result"
    }
   ],
   "source": [
    "c"
   ]
  },
  {
   "cell_type": "code",
   "execution_count": 45,
   "id": "f97d1760-ccb1-4221-91c0-d397ae40e49c",
   "metadata": {},
   "outputs": [],
   "source": [
    "c.insert(-1,'tra')"
   ]
  },
  {
   "cell_type": "code",
   "execution_count": 46,
   "id": "e85669ff-74d1-456a-989c-65badbd224ba",
   "metadata": {},
   "outputs": [
    {
     "data": {
      "text/plain": [
       "['aws', 23, [5, 7, 9], 95, 'tra', 'tra', 2345]"
      ]
     },
     "execution_count": 46,
     "metadata": {},
     "output_type": "execute_result"
    }
   ],
   "source": [
    "c"
   ]
  },
  {
   "cell_type": "code",
   "execution_count": 47,
   "id": "85f5d84a-d815-43c0-ae5a-07e244a3d91a",
   "metadata": {},
   "outputs": [
    {
     "data": {
      "text/plain": [
       "2345"
      ]
     },
     "execution_count": 47,
     "metadata": {},
     "output_type": "execute_result"
    }
   ],
   "source": [
    "c.pop()"
   ]
  },
  {
   "cell_type": "code",
   "execution_count": 48,
   "id": "42881807-3118-4f60-9ac7-bf38f83b188f",
   "metadata": {},
   "outputs": [
    {
     "data": {
      "text/plain": [
       "['aws', 23, [5, 7, 9], 95, 'tra', 'tra']"
      ]
     },
     "execution_count": 48,
     "metadata": {},
     "output_type": "execute_result"
    }
   ],
   "source": [
    "c"
   ]
  },
  {
   "cell_type": "code",
   "execution_count": 49,
   "id": "f9c3aff1-71c8-4cab-96e9-c39cd251485c",
   "metadata": {},
   "outputs": [
    {
     "data": {
      "text/plain": [
       "'tra'"
      ]
     },
     "execution_count": 49,
     "metadata": {},
     "output_type": "execute_result"
    }
   ],
   "source": [
    "c.pop()"
   ]
  },
  {
   "cell_type": "code",
   "execution_count": 50,
   "id": "981c3825-56d0-4456-91b4-c6fee986e1b3",
   "metadata": {},
   "outputs": [
    {
     "data": {
      "text/plain": [
       "[5, 7, 9]"
      ]
     },
     "execution_count": 50,
     "metadata": {},
     "output_type": "execute_result"
    }
   ],
   "source": [
    "c.pop(2)"
   ]
  },
  {
   "cell_type": "code",
   "execution_count": 51,
   "id": "f7d7ceeb-ec54-42f5-b45f-b57a244b79f8",
   "metadata": {},
   "outputs": [
    {
     "data": {
      "text/plain": [
       "['aws', 23, 95, 'tra']"
      ]
     },
     "execution_count": 51,
     "metadata": {},
     "output_type": "execute_result"
    }
   ],
   "source": [
    "c"
   ]
  },
  {
   "cell_type": "code",
   "execution_count": 52,
   "id": "9cd96111-2e7a-42c2-ba7b-63fc8bcbc3e9",
   "metadata": {},
   "outputs": [],
   "source": [
    "c.remove(23)"
   ]
  },
  {
   "cell_type": "code",
   "execution_count": 53,
   "id": "a70df286-ab84-4ce5-ac26-0505b5112475",
   "metadata": {},
   "outputs": [
    {
     "data": {
      "text/plain": [
       "['aws', 95, 'tra']"
      ]
     },
     "execution_count": 53,
     "metadata": {},
     "output_type": "execute_result"
    }
   ],
   "source": [
    "c"
   ]
  },
  {
   "cell_type": "code",
   "execution_count": 54,
   "id": "1fb9fa04-b2cd-4ab0-b95b-0c0c63fb3625",
   "metadata": {},
   "outputs": [],
   "source": [
    "c.append([1,2,4,3])"
   ]
  },
  {
   "cell_type": "code",
   "execution_count": 55,
   "id": "cc19fbe1-3d21-4809-b097-9b90b1da4271",
   "metadata": {},
   "outputs": [
    {
     "data": {
      "text/plain": [
       "['aws', 95, 'tra', [1, 2, 4, 3]]"
      ]
     },
     "execution_count": 55,
     "metadata": {},
     "output_type": "execute_result"
    }
   ],
   "source": [
    "c"
   ]
  },
  {
   "cell_type": "code",
   "execution_count": 56,
   "id": "40ff7fe9-d61a-47e1-a28a-a13e1d40d61c",
   "metadata": {},
   "outputs": [],
   "source": [
    "c[3].remove(3)"
   ]
  },
  {
   "cell_type": "code",
   "execution_count": 57,
   "id": "bd1add14-184c-45fb-8de0-8c46888a47a4",
   "metadata": {},
   "outputs": [
    {
     "data": {
      "text/plain": [
       "['aws', 95, 'tra', [1, 2, 4]]"
      ]
     },
     "execution_count": 57,
     "metadata": {},
     "output_type": "execute_result"
    }
   ],
   "source": [
    "c"
   ]
  },
  {
   "cell_type": "code",
   "execution_count": 58,
   "id": "ae1e9e06-f5fc-46ca-9569-fdcd2b293e12",
   "metadata": {},
   "outputs": [
    {
     "data": {
      "text/plain": [
       "[[1, 2, 4], 'tra', 95, 'aws']"
      ]
     },
     "execution_count": 58,
     "metadata": {},
     "output_type": "execute_result"
    }
   ],
   "source": [
    "c[::-1]"
   ]
  },
  {
   "cell_type": "code",
   "execution_count": 59,
   "id": "2453e357-7b45-4f92-8d96-a8e9515f83df",
   "metadata": {},
   "outputs": [],
   "source": [
    "c.reverse()"
   ]
  },
  {
   "cell_type": "code",
   "execution_count": 60,
   "id": "7637e27e-8de5-4fce-b0ed-5010fb3c261a",
   "metadata": {},
   "outputs": [
    {
     "data": {
      "text/plain": [
       "[[1, 2, 4], 'tra', 95, 'aws']"
      ]
     },
     "execution_count": 60,
     "metadata": {},
     "output_type": "execute_result"
    }
   ],
   "source": [
    "c"
   ]
  },
  {
   "cell_type": "code",
   "execution_count": 61,
   "id": "01fea290-4cde-45a3-b4cf-52ad6d6878df",
   "metadata": {},
   "outputs": [],
   "source": [
    "i=[9,54,23,876,19,5,8,0]"
   ]
  },
  {
   "cell_type": "code",
   "execution_count": 62,
   "id": "48f74b95-c096-474c-b018-b11bfb49dd2b",
   "metadata": {},
   "outputs": [],
   "source": [
    "i.sort()"
   ]
  },
  {
   "cell_type": "code",
   "execution_count": 63,
   "id": "3b083a78-425f-450a-b1ba-c007c00d36e9",
   "metadata": {},
   "outputs": [
    {
     "data": {
      "text/plain": [
       "[0, 5, 8, 9, 19, 23, 54, 876]"
      ]
     },
     "execution_count": 63,
     "metadata": {},
     "output_type": "execute_result"
    }
   ],
   "source": [
    "i"
   ]
  },
  {
   "cell_type": "code",
   "execution_count": 64,
   "id": "117f0701-4518-4de5-b5ed-736f0796ec47",
   "metadata": {},
   "outputs": [],
   "source": [
    "m=['awse','dtgdg','esrdf','oiuyt']"
   ]
  },
  {
   "cell_type": "code",
   "execution_count": 65,
   "id": "53b8c091-ec84-42a2-b3f3-2b6adcddf167",
   "metadata": {},
   "outputs": [],
   "source": [
    "m.sort()"
   ]
  },
  {
   "cell_type": "code",
   "execution_count": 66,
   "id": "b8645736-f58d-4758-be85-d89fc3f413b5",
   "metadata": {},
   "outputs": [
    {
     "data": {
      "text/plain": [
       "['awse', 'dtgdg', 'esrdf', 'oiuyt']"
      ]
     },
     "execution_count": 66,
     "metadata": {},
     "output_type": "execute_result"
    }
   ],
   "source": [
    "m"
   ]
  },
  {
   "cell_type": "code",
   "execution_count": 67,
   "id": "bbb12b6f-e88d-49c0-8499-f69ae6cb200d",
   "metadata": {},
   "outputs": [],
   "source": [
    "m.sort(reverse=True)"
   ]
  },
  {
   "cell_type": "code",
   "execution_count": 68,
   "id": "9d2dab31-6e73-405e-8d1f-4288adeb84b9",
   "metadata": {},
   "outputs": [
    {
     "data": {
      "text/plain": [
       "['oiuyt', 'esrdf', 'dtgdg', 'awse']"
      ]
     },
     "execution_count": 68,
     "metadata": {},
     "output_type": "execute_result"
    }
   ],
   "source": [
    "m"
   ]
  },
  {
   "cell_type": "code",
   "execution_count": 69,
   "id": "2378bea5-91af-4d47-90cb-6cb432ce8f63",
   "metadata": {},
   "outputs": [
    {
     "data": {
      "text/plain": [
       "2"
      ]
     },
     "execution_count": 69,
     "metadata": {},
     "output_type": "execute_result"
    }
   ],
   "source": [
    "m.index('dtgdg')"
   ]
  },
  {
   "cell_type": "code",
   "execution_count": 70,
   "id": "b7f472fb-612a-499e-9b17-87e4917bd4b8",
   "metadata": {},
   "outputs": [
    {
     "data": {
      "text/plain": [
       "1"
      ]
     },
     "execution_count": 70,
     "metadata": {},
     "output_type": "execute_result"
    }
   ],
   "source": [
    "m.count('dtgdg')"
   ]
  },
  {
   "cell_type": "code",
   "execution_count": 71,
   "id": "0ecbe105-e9cb-4e94-9152-f1766f99c76b",
   "metadata": {},
   "outputs": [],
   "source": [
    "s='deep'\n",
    "l=[5,8,7,3]"
   ]
  },
  {
   "cell_type": "code",
   "execution_count": 72,
   "id": "460a5d91-a52d-4dfe-b225-e8fe0085ccfe",
   "metadata": {},
   "outputs": [
    {
     "ename": "TypeError",
     "evalue": "'str' object does not support item assignment",
     "output_type": "error",
     "traceback": [
      "\u001b[0;31m---------------------------------------------------------------------------\u001b[0m",
      "\u001b[0;31mTypeError\u001b[0m                                 Traceback (most recent call last)",
      "Cell \u001b[0;32mIn[72], line 1\u001b[0m\n\u001b[0;32m----> 1\u001b[0m \u001b[43ms\u001b[49m\u001b[43m[\u001b[49m\u001b[38;5;241;43m0\u001b[39;49m\u001b[43m]\u001b[49m\u001b[38;5;241m=\u001b[39m\u001b[38;5;124m'\u001b[39m\u001b[38;5;124mo\u001b[39m\u001b[38;5;124m'\u001b[39m\n",
      "\u001b[0;31mTypeError\u001b[0m: 'str' object does not support item assignment"
     ]
    }
   ],
   "source": [
    "s[0]='o'"
   ]
  },
  {
   "cell_type": "code",
   "execution_count": 73,
   "id": "661ad56c-f41d-4753-a511-74cc63eb9397",
   "metadata": {},
   "outputs": [],
   "source": [
    "l[0]=89"
   ]
  },
  {
   "cell_type": "code",
   "execution_count": 74,
   "id": "e7708925-dcc7-40a7-ba93-42fcd49ada56",
   "metadata": {},
   "outputs": [
    {
     "data": {
      "text/plain": [
       "[89, 8, 7, 3]"
      ]
     },
     "execution_count": 74,
     "metadata": {},
     "output_type": "execute_result"
    }
   ],
   "source": [
    "l"
   ]
  },
  {
   "cell_type": "code",
   "execution_count": 75,
   "id": "66a18cf2-485d-48cc-9b08-5235c5467f28",
   "metadata": {},
   "outputs": [
    {
     "data": {
      "text/plain": [
       "'aeep'"
      ]
     },
     "execution_count": 75,
     "metadata": {},
     "output_type": "execute_result"
    }
   ],
   "source": [
    "s.replace('d','a')"
   ]
  },
  {
   "cell_type": "code",
   "execution_count": 76,
   "id": "747d8f65-86c3-47b2-9561-491106334392",
   "metadata": {},
   "outputs": [
    {
     "data": {
      "text/plain": [
       "'deep'"
      ]
     },
     "execution_count": 76,
     "metadata": {},
     "output_type": "execute_result"
    }
   ],
   "source": [
    "s"
   ]
  },
  {
   "cell_type": "code",
   "execution_count": 77,
   "id": "bb547e5b-8089-4595-a1e7-a67233e47436",
   "metadata": {},
   "outputs": [],
   "source": [
    "t=(1,2,3,4,5,'egg',6.9384,False,4+9j,[1,2,3])"
   ]
  },
  {
   "cell_type": "code",
   "execution_count": 78,
   "id": "55b72de3-5392-4f84-a7e7-4a54fad193bb",
   "metadata": {},
   "outputs": [
    {
     "data": {
      "text/plain": [
       "tuple"
      ]
     },
     "execution_count": 78,
     "metadata": {},
     "output_type": "execute_result"
    }
   ],
   "source": [
    "type(t)"
   ]
  },
  {
   "cell_type": "code",
   "execution_count": 79,
   "id": "0bcddae0-cf38-40ab-bc0e-25fca2cad7f5",
   "metadata": {},
   "outputs": [
    {
     "data": {
      "text/plain": [
       "(1, 2, 3, 4, 5, 'egg', 6.9384, False, (4+9j), [1, 2, 3])"
      ]
     },
     "execution_count": 79,
     "metadata": {},
     "output_type": "execute_result"
    }
   ],
   "source": [
    "t"
   ]
  },
  {
   "cell_type": "code",
   "execution_count": 80,
   "id": "b67fcfb4-6fd0-4d0f-a085-f061a3fe71a3",
   "metadata": {},
   "outputs": [
    {
     "data": {
      "text/plain": [
       "10"
      ]
     },
     "execution_count": 80,
     "metadata": {},
     "output_type": "execute_result"
    }
   ],
   "source": [
    "len(t)"
   ]
  },
  {
   "cell_type": "code",
   "execution_count": 81,
   "id": "a0fee3f2-e8a2-4604-b6d1-35212a27164c",
   "metadata": {},
   "outputs": [
    {
     "data": {
      "text/plain": [
       "[1, 2, 3]"
      ]
     },
     "execution_count": 81,
     "metadata": {},
     "output_type": "execute_result"
    }
   ],
   "source": [
    "t[9]"
   ]
  },
  {
   "cell_type": "code",
   "execution_count": 82,
   "id": "d861d9d4-ce73-488e-bd36-a768238a0383",
   "metadata": {},
   "outputs": [
    {
     "data": {
      "text/plain": [
       "([1, 2, 3], (4+9j), False, 6.9384, 'egg', 5, 4, 3, 2, 1)"
      ]
     },
     "execution_count": 82,
     "metadata": {},
     "output_type": "execute_result"
    }
   ],
   "source": [
    "t[::-1]"
   ]
  },
  {
   "cell_type": "code",
   "execution_count": 83,
   "id": "55a6d3c0-4ff5-41f3-98e7-fc6e6b568a6c",
   "metadata": {},
   "outputs": [],
   "source": [
    "l=['sea','ocean','water','hero']"
   ]
  },
  {
   "cell_type": "code",
   "execution_count": 84,
   "id": "14e049c0-3cfc-4eaf-b35c-81cfae45ada8",
   "metadata": {},
   "outputs": [
    {
     "data": {
      "text/plain": [
       "['sea', 'ocean', 'water', 'hero']"
      ]
     },
     "execution_count": 84,
     "metadata": {},
     "output_type": "execute_result"
    }
   ],
   "source": [
    "l"
   ]
  },
  {
   "cell_type": "code",
   "execution_count": 85,
   "id": "dcf06344-1fed-48e9-af01-042d8d428fa6",
   "metadata": {},
   "outputs": [],
   "source": [
    "l[3]='villain'"
   ]
  },
  {
   "cell_type": "code",
   "execution_count": 86,
   "id": "c1b11cbc-c64a-4257-a03c-941492627e3f",
   "metadata": {},
   "outputs": [
    {
     "data": {
      "text/plain": [
       "['sea', 'ocean', 'water', 'villain']"
      ]
     },
     "execution_count": 86,
     "metadata": {},
     "output_type": "execute_result"
    }
   ],
   "source": [
    "l"
   ]
  },
  {
   "cell_type": "code",
   "execution_count": 87,
   "id": "694bd4c8-94fb-4508-9585-7550ada6f279",
   "metadata": {},
   "outputs": [
    {
     "data": {
      "text/plain": [
       "5"
      ]
     },
     "execution_count": 87,
     "metadata": {},
     "output_type": "execute_result"
    }
   ],
   "source": [
    "t[4]"
   ]
  },
  {
   "cell_type": "code",
   "execution_count": 88,
   "id": "a5b09b60-1cc2-43d1-ac37-2f622ad1179f",
   "metadata": {},
   "outputs": [
    {
     "ename": "TypeError",
     "evalue": "'tuple' object does not support item assignment",
     "output_type": "error",
     "traceback": [
      "\u001b[0;31m---------------------------------------------------------------------------\u001b[0m",
      "\u001b[0;31mTypeError\u001b[0m                                 Traceback (most recent call last)",
      "Cell \u001b[0;32mIn[88], line 1\u001b[0m\n\u001b[0;32m----> 1\u001b[0m \u001b[43mt\u001b[49m\u001b[43m[\u001b[49m\u001b[38;5;241;43m4\u001b[39;49m\u001b[43m]\u001b[49m\u001b[38;5;241m=\u001b[39m\u001b[38;5;241m8\u001b[39m\n",
      "\u001b[0;31mTypeError\u001b[0m: 'tuple' object does not support item assignment"
     ]
    }
   ],
   "source": [
    "t[4]=8"
   ]
  },
  {
   "cell_type": "code",
   "execution_count": 89,
   "id": "608e61da-a5dd-41e3-82b3-219ee44f1cfe",
   "metadata": {},
   "outputs": [
    {
     "data": {
      "text/plain": [
       "([1, 2, 3], (4+9j), False, 6.9384, 'egg', 5, 4, 3, 2, 1)"
      ]
     },
     "execution_count": 89,
     "metadata": {},
     "output_type": "execute_result"
    }
   ],
   "source": [
    "t[::-1]"
   ]
  },
  {
   "cell_type": "code",
   "execution_count": 90,
   "id": "cc172de0-fc67-4950-90ed-bf38085e70e2",
   "metadata": {},
   "outputs": [
    {
     "data": {
      "text/plain": [
       "(1, 2, 3, 4, 5, 'egg', 6.9384, False, (4+9j), [1, 2, 3])"
      ]
     },
     "execution_count": 90,
     "metadata": {},
     "output_type": "execute_result"
    }
   ],
   "source": [
    "t"
   ]
  },
  {
   "cell_type": "code",
   "execution_count": 91,
   "id": "21d0263a-2c48-4d47-97da-c16d206e39f1",
   "metadata": {},
   "outputs": [
    {
     "data": {
      "text/plain": [
       "1"
      ]
     },
     "execution_count": 91,
     "metadata": {},
     "output_type": "execute_result"
    }
   ],
   "source": [
    "t.count(1)"
   ]
  },
  {
   "cell_type": "code",
   "execution_count": 92,
   "id": "895ca302-b981-46b2-90d3-c7eb442dd55d",
   "metadata": {},
   "outputs": [
    {
     "data": {
      "text/plain": [
       "4"
      ]
     },
     "execution_count": 92,
     "metadata": {},
     "output_type": "execute_result"
    }
   ],
   "source": [
    "t.index(5)"
   ]
  },
  {
   "cell_type": "code",
   "execution_count": 93,
   "id": "0e8be3d3-94f8-4ea3-aac5-102ec96ca661",
   "metadata": {},
   "outputs": [],
   "source": [
    "s1 = {}"
   ]
  },
  {
   "cell_type": "code",
   "execution_count": 94,
   "id": "e3d1832e-8d81-419c-ae38-6e4d55e9a750",
   "metadata": {},
   "outputs": [
    {
     "data": {
      "text/plain": [
       "dict"
      ]
     },
     "execution_count": 94,
     "metadata": {},
     "output_type": "execute_result"
    }
   ],
   "source": [
    "type(s1)"
   ]
  },
  {
   "cell_type": "code",
   "execution_count": 95,
   "id": "ae8fff3e-f496-490f-b433-89bcfdf71700",
   "metadata": {},
   "outputs": [],
   "source": [
    "s2 = {1,2,3,4,5,6}"
   ]
  },
  {
   "cell_type": "code",
   "execution_count": 96,
   "id": "017339b9-6887-4aba-a938-3109927b94b5",
   "metadata": {},
   "outputs": [
    {
     "data": {
      "text/plain": [
       "set"
      ]
     },
     "execution_count": 96,
     "metadata": {},
     "output_type": "execute_result"
    }
   ],
   "source": [
    "type(s2)"
   ]
  },
  {
   "cell_type": "code",
   "execution_count": 97,
   "id": "5da79dbe-c531-40a6-a76d-3194dfe39b1f",
   "metadata": {},
   "outputs": [],
   "source": [
    "s3 = {1,2,3.456,True,\"ace\",5+6j,(1,2,3)}"
   ]
  },
  {
   "cell_type": "code",
   "execution_count": 98,
   "id": "b3fe59df-3453-477e-9ca4-a8995c412c32",
   "metadata": {},
   "outputs": [],
   "source": [
    "s4={1,2,3,4,5,6,7,8,9,23,5,2,3,4,5,6,2,2,1,3,1,4,4,3,3,'a','A'}"
   ]
  },
  {
   "cell_type": "code",
   "execution_count": 99,
   "id": "a7181393-f85f-4276-b4b2-af38d66ee31e",
   "metadata": {},
   "outputs": [
    {
     "data": {
      "text/plain": [
       "{1, 2, 23, 3, 4, 5, 6, 7, 8, 9, 'A', 'a'}"
      ]
     },
     "execution_count": 99,
     "metadata": {},
     "output_type": "execute_result"
    }
   ],
   "source": [
    "s4"
   ]
  },
  {
   "cell_type": "code",
   "execution_count": 100,
   "id": "9e46504e-1924-42fd-b47b-99b633cd28fa",
   "metadata": {},
   "outputs": [],
   "source": [
    "l=[1,2,3,4,5,6,7,8,9,23,5,2,3,4,5,6,2,2,1,3,1,4,4,3,3,'a','A']"
   ]
  },
  {
   "cell_type": "code",
   "execution_count": 101,
   "id": "69897e52-c07e-41c5-abc1-1657f5ad469c",
   "metadata": {},
   "outputs": [
    {
     "data": {
      "text/plain": [
       "{1, 2, 23, 3, 4, 5, 6, 7, 8, 9, 'A', 'a'}"
      ]
     },
     "execution_count": 101,
     "metadata": {},
     "output_type": "execute_result"
    }
   ],
   "source": [
    "set(l)"
   ]
  },
  {
   "cell_type": "code",
   "execution_count": 102,
   "id": "4c73785b-25ee-4840-9f39-7998b55f35db",
   "metadata": {},
   "outputs": [],
   "source": [
    "l=list(set(l))"
   ]
  },
  {
   "cell_type": "code",
   "execution_count": 103,
   "id": "13437e67-4941-4250-baca-944c7d8a4bdd",
   "metadata": {},
   "outputs": [
    {
     "data": {
      "text/plain": [
       "[1, 2, 3, 4, 5, 6, 7, 8, 9, 'a', 'A', 23]"
      ]
     },
     "execution_count": 103,
     "metadata": {},
     "output_type": "execute_result"
    }
   ],
   "source": [
    "l"
   ]
  },
  {
   "cell_type": "code",
   "execution_count": 104,
   "id": "7bc665ec-f2d9-4849-9c47-c0d678b72faf",
   "metadata": {},
   "outputs": [],
   "source": [
    "s5={223,54,76,268,2456,2,57,245,94,72,\"fast\",424,283,837,292}"
   ]
  },
  {
   "cell_type": "code",
   "execution_count": 105,
   "id": "766f5fb1-6483-41f1-93e3-c39a300c1f72",
   "metadata": {},
   "outputs": [
    {
     "data": {
      "text/plain": [
       "{2, 223, 245, 2456, 268, 283, 292, 424, 54, 57, 72, 76, 837, 94, 'fast'}"
      ]
     },
     "execution_count": 105,
     "metadata": {},
     "output_type": "execute_result"
    }
   ],
   "source": [
    "s5"
   ]
  },
  {
   "cell_type": "code",
   "execution_count": 106,
   "id": "a928a46f-f861-4b67-922c-4007b3685163",
   "metadata": {},
   "outputs": [
    {
     "ename": "TypeError",
     "evalue": "'set' object is not subscriptable",
     "output_type": "error",
     "traceback": [
      "\u001b[0;31m---------------------------------------------------------------------------\u001b[0m",
      "\u001b[0;31mTypeError\u001b[0m                                 Traceback (most recent call last)",
      "Cell \u001b[0;32mIn[106], line 1\u001b[0m\n\u001b[0;32m----> 1\u001b[0m \u001b[43ms5\u001b[49m\u001b[43m[\u001b[49m\u001b[38;5;241;43m0\u001b[39;49m\u001b[43m]\u001b[49m\n",
      "\u001b[0;31mTypeError\u001b[0m: 'set' object is not subscriptable"
     ]
    }
   ],
   "source": [
    "s5[0]"
   ]
  },
  {
   "cell_type": "code",
   "execution_count": 107,
   "id": "db1757bd-ee34-433b-88e5-9842fb36a595",
   "metadata": {},
   "outputs": [
    {
     "ename": "TypeError",
     "evalue": "'set' object is not subscriptable",
     "output_type": "error",
     "traceback": [
      "\u001b[0;31m---------------------------------------------------------------------------\u001b[0m",
      "\u001b[0;31mTypeError\u001b[0m                                 Traceback (most recent call last)",
      "Cell \u001b[0;32mIn[107], line 1\u001b[0m\n\u001b[0;32m----> 1\u001b[0m \u001b[43ms5\u001b[49m\u001b[43m[\u001b[49m\u001b[43m:\u001b[49m\u001b[43m:\u001b[49m\u001b[38;5;241;43m-\u001b[39;49m\u001b[38;5;241;43m1\u001b[39;49m\u001b[43m]\u001b[49m\n",
      "\u001b[0;31mTypeError\u001b[0m: 'set' object is not subscriptable"
     ]
    }
   ],
   "source": [
    "s5[::-1]"
   ]
  },
  {
   "cell_type": "code",
   "execution_count": 108,
   "id": "198467c3-528a-4821-bdd1-c1c4f461878d",
   "metadata": {},
   "outputs": [],
   "source": [
    "s5.add(98)"
   ]
  },
  {
   "cell_type": "code",
   "execution_count": 109,
   "id": "5aae13a8-52da-41d9-88ef-236aa8ca4e0e",
   "metadata": {},
   "outputs": [
    {
     "data": {
      "text/plain": [
       "{2, 223, 245, 2456, 268, 283, 292, 424, 54, 57, 72, 76, 837, 94, 98, 'fast'}"
      ]
     },
     "execution_count": 109,
     "metadata": {},
     "output_type": "execute_result"
    }
   ],
   "source": [
    "s5"
   ]
  },
  {
   "cell_type": "code",
   "execution_count": 110,
   "id": "c2dda5e4-14c0-412c-ba74-c547b73f2829",
   "metadata": {},
   "outputs": [],
   "source": [
    "s5.remove('fast')"
   ]
  },
  {
   "cell_type": "code",
   "execution_count": 111,
   "id": "2edaba11-a344-4f28-89ea-1f7710bc6983",
   "metadata": {},
   "outputs": [
    {
     "data": {
      "text/plain": [
       "{2, 54, 57, 72, 76, 94, 98, 223, 245, 268, 283, 292, 424, 837, 2456}"
      ]
     },
     "execution_count": 111,
     "metadata": {},
     "output_type": "execute_result"
    }
   ],
   "source": [
    "s5"
   ]
  }
 ],
 "metadata": {
  "kernelspec": {
   "display_name": "Python 3 (ipykernel)",
   "language": "python",
   "name": "python3"
  },
  "language_info": {
   "codemirror_mode": {
    "name": "ipython",
    "version": 3
   },
   "file_extension": ".py",
   "mimetype": "text/x-python",
   "name": "python",
   "nbconvert_exporter": "python",
   "pygments_lexer": "ipython3",
   "version": "3.10.8"
  }
 },
 "nbformat": 4,
 "nbformat_minor": 5
}
