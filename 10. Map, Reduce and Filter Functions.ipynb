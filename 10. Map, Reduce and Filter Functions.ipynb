{
 "cells": [
  {
   "cell_type": "code",
   "execution_count": 1,
   "id": "6e16d9d4-0060-4c20-b35c-1923fea027b5",
   "metadata": {},
   "outputs": [],
   "source": [
    "l=[7,6,8,5,2,4,3]"
   ]
  },
  {
   "cell_type": "code",
   "execution_count": 2,
   "id": "de5749c7-3fb4-48a5-8faf-3836b65d9ce1",
   "metadata": {},
   "outputs": [],
   "source": [
    "def test(l):\n",
    "    l1=[]\n",
    "    for i in l:\n",
    "        l1.append(i*i)\n",
    "    return l1"
   ]
  },
  {
   "cell_type": "code",
   "execution_count": 3,
   "id": "60ca8790-b9da-4cd6-b983-424eee4195c9",
   "metadata": {},
   "outputs": [
    {
     "data": {
      "text/plain": [
       "[49, 36, 64, 25, 4, 16, 9]"
      ]
     },
     "execution_count": 3,
     "metadata": {},
     "output_type": "execute_result"
    }
   ],
   "source": [
    "test(l)"
   ]
  },
  {
   "cell_type": "code",
   "execution_count": 4,
   "id": "1c55d8ad-6935-43e3-a03d-cdb5bc608104",
   "metadata": {},
   "outputs": [
    {
     "data": {
      "text/plain": [
       "\u001b[0;31mInit signature:\u001b[0m \u001b[0mmap\u001b[0m\u001b[0;34m(\u001b[0m\u001b[0mself\u001b[0m\u001b[0;34m,\u001b[0m \u001b[0;34m/\u001b[0m\u001b[0;34m,\u001b[0m \u001b[0;34m*\u001b[0m\u001b[0margs\u001b[0m\u001b[0;34m,\u001b[0m \u001b[0;34m**\u001b[0m\u001b[0mkwargs\u001b[0m\u001b[0;34m)\u001b[0m\u001b[0;34m\u001b[0m\u001b[0;34m\u001b[0m\u001b[0m\n",
       "\u001b[0;31mDocstring:\u001b[0m     \n",
       "map(func, *iterables) --> map object\n",
       "\n",
       "Make an iterator that computes the function using arguments from\n",
       "each of the iterables.  Stops when the shortest iterable is exhausted.\n",
       "\u001b[0;31mType:\u001b[0m           type\n",
       "\u001b[0;31mSubclasses:\u001b[0m     \n"
      ]
     },
     "metadata": {},
     "output_type": "display_data"
    }
   ],
   "source": [
    "map?"
   ]
  },
  {
   "cell_type": "code",
   "execution_count": 5,
   "id": "fa385284-8268-428c-bee7-95c3e29288a6",
   "metadata": {},
   "outputs": [],
   "source": [
    "def sq(x):\n",
    "    return x*x"
   ]
  },
  {
   "cell_type": "code",
   "execution_count": 6,
   "id": "0f646202-99f0-40f0-86d2-06a2c0083cdc",
   "metadata": {},
   "outputs": [
    {
     "data": {
      "text/plain": [
       "[49, 36, 64, 25, 4, 16, 9]"
      ]
     },
     "execution_count": 6,
     "metadata": {},
     "output_type": "execute_result"
    }
   ],
   "source": [
    "list(map(sq,l))"
   ]
  },
  {
   "cell_type": "code",
   "execution_count": 7,
   "id": "d8e046d9-a39a-4ca8-9bf9-6b6162960686",
   "metadata": {},
   "outputs": [
    {
     "data": {
      "text/plain": [
       "[49, 36, 64, 25, 4, 16, 9]"
      ]
     },
     "execution_count": 7,
     "metadata": {},
     "output_type": "execute_result"
    }
   ],
   "source": [
    "list(map(lambda x:x*x,l))"
   ]
  },
  {
   "cell_type": "code",
   "execution_count": 8,
   "id": "9d9de913-c74b-40e5-8186-a8495e90e476",
   "metadata": {},
   "outputs": [],
   "source": [
    "l1=[8,9,6,3,4,5]\n",
    "l2=[12,10,11,2,1,7]"
   ]
  },
  {
   "cell_type": "code",
   "execution_count": 9,
   "id": "e688730e-ee67-4b38-b655-718cb1f50aa5",
   "metadata": {},
   "outputs": [
    {
     "data": {
      "text/plain": [
       "[20, 19, 17, 5, 5, 12]"
      ]
     },
     "execution_count": 9,
     "metadata": {},
     "output_type": "execute_result"
    }
   ],
   "source": [
    "list(map(lambda x,y:x+y,l1,l2))"
   ]
  },
  {
   "cell_type": "code",
   "execution_count": 10,
   "id": "c8713ef1-8b7a-44cd-b230-8a7c5bd19723",
   "metadata": {},
   "outputs": [],
   "source": [
    "def add(x,y):\n",
    "    return x+y"
   ]
  },
  {
   "cell_type": "code",
   "execution_count": 11,
   "id": "9905c2ad-7724-45c8-a0c8-d45f298b6d29",
   "metadata": {},
   "outputs": [
    {
     "data": {
      "text/plain": [
       "[20, 19, 17, 5, 5, 12]"
      ]
     },
     "execution_count": 11,
     "metadata": {},
     "output_type": "execute_result"
    }
   ],
   "source": [
    "list(map(add,l1,l2))"
   ]
  },
  {
   "cell_type": "code",
   "execution_count": 12,
   "id": "f37621ed-97a5-4219-b117-b21b9e634f0d",
   "metadata": {},
   "outputs": [
    {
     "data": {
      "text/plain": [
       "['M', 'O', 'N', 'K', 'E', 'Y', ' ', 'D', ' ', 'L', 'U', 'F', 'F', 'Y']"
      ]
     },
     "execution_count": 12,
     "metadata": {},
     "output_type": "execute_result"
    }
   ],
   "source": [
    "s='monkey d luffy'\n",
    "list(map(lambda s:s.upper(),s))"
   ]
  },
  {
   "cell_type": "code",
   "execution_count": 13,
   "id": "2289953a-d934-46e8-ba9f-47de4f1871b6",
   "metadata": {},
   "outputs": [],
   "source": [
    "from functools import reduce"
   ]
  },
  {
   "cell_type": "code",
   "execution_count": 14,
   "id": "3a642964-b315-4710-99c6-45c3b42ad86a",
   "metadata": {},
   "outputs": [],
   "source": [
    "l=[3,5,2,6,54,8,1]"
   ]
  },
  {
   "cell_type": "code",
   "execution_count": 15,
   "id": "056ee957-f7c7-4506-ab84-f9e13b4560c6",
   "metadata": {},
   "outputs": [
    {
     "data": {
      "text/plain": [
       "79"
      ]
     },
     "execution_count": 15,
     "metadata": {},
     "output_type": "execute_result"
    }
   ],
   "source": [
    "reduce(lambda x,y:x+y,l)"
   ]
  },
  {
   "cell_type": "code",
   "execution_count": 16,
   "id": "f9f1e50b-fc02-4ab5-8bc2-4f07a094a59a",
   "metadata": {},
   "outputs": [
    {
     "data": {
      "text/plain": [
       "77760"
      ]
     },
     "execution_count": 16,
     "metadata": {},
     "output_type": "execute_result"
    }
   ],
   "source": [
    "reduce(lambda x,y:x*y,l)"
   ]
  },
  {
   "cell_type": "code",
   "execution_count": 17,
   "id": "0fccd703-7c22-4f8c-8fc8-0cb3f5549dad",
   "metadata": {},
   "outputs": [
    {
     "data": {
      "text/plain": [
       "[3, 5, 2, 6, 54, 8, 1]"
      ]
     },
     "execution_count": 17,
     "metadata": {},
     "output_type": "execute_result"
    }
   ],
   "source": [
    "l"
   ]
  },
  {
   "cell_type": "code",
   "execution_count": 18,
   "id": "64312247-cae5-41fb-96f8-5f5039925ae2",
   "metadata": {},
   "outputs": [
    {
     "data": {
      "text/plain": [
       "54"
      ]
     },
     "execution_count": 18,
     "metadata": {},
     "output_type": "execute_result"
    }
   ],
   "source": [
    "max(l)"
   ]
  },
  {
   "cell_type": "code",
   "execution_count": 19,
   "id": "c5457686-67d5-4648-918f-93cdc8759186",
   "metadata": {},
   "outputs": [
    {
     "data": {
      "text/plain": [
       "54"
      ]
     },
     "execution_count": 19,
     "metadata": {},
     "output_type": "execute_result"
    }
   ],
   "source": [
    "reduce(lambda x,y:x if x>y else y,l)"
   ]
  },
  {
   "cell_type": "code",
   "execution_count": 20,
   "id": "22ce6299-13a4-47fd-8691-f81de736df35",
   "metadata": {},
   "outputs": [
    {
     "data": {
      "text/plain": [
       "[3, 5, 2, 6, 54, 8, 1]"
      ]
     },
     "execution_count": 20,
     "metadata": {},
     "output_type": "execute_result"
    }
   ],
   "source": [
    "l"
   ]
  },
  {
   "cell_type": "code",
   "execution_count": 21,
   "id": "7ea08ee9-4273-4c47-b63c-4bd7e3471daa",
   "metadata": {},
   "outputs": [
    {
     "data": {
      "text/plain": [
       "\u001b[0;31mInit signature:\u001b[0m \u001b[0mfilter\u001b[0m\u001b[0;34m(\u001b[0m\u001b[0mself\u001b[0m\u001b[0;34m,\u001b[0m \u001b[0;34m/\u001b[0m\u001b[0;34m,\u001b[0m \u001b[0;34m*\u001b[0m\u001b[0margs\u001b[0m\u001b[0;34m,\u001b[0m \u001b[0;34m**\u001b[0m\u001b[0mkwargs\u001b[0m\u001b[0;34m)\u001b[0m\u001b[0;34m\u001b[0m\u001b[0;34m\u001b[0m\u001b[0m\n",
       "\u001b[0;31mDocstring:\u001b[0m     \n",
       "filter(function or None, iterable) --> filter object\n",
       "\n",
       "Return an iterator yielding those items of iterable for which function(item)\n",
       "is true. If function is None, return the items that are true.\n",
       "\u001b[0;31mType:\u001b[0m           type\n",
       "\u001b[0;31mSubclasses:\u001b[0m     \n"
      ]
     },
     "metadata": {},
     "output_type": "display_data"
    }
   ],
   "source": [
    "filter?"
   ]
  },
  {
   "cell_type": "code",
   "execution_count": 22,
   "id": "99423a5e-dae1-4bbd-845c-d2e3f476ec2e",
   "metadata": {},
   "outputs": [
    {
     "data": {
      "text/plain": [
       "[2, 6, 54, 8]"
      ]
     },
     "execution_count": 22,
     "metadata": {},
     "output_type": "execute_result"
    }
   ],
   "source": [
    "list(filter(lambda x:x%2==0,l))"
   ]
  },
  {
   "cell_type": "code",
   "execution_count": 23,
   "id": "bfeada2b-b458-4cce-ae05-43672ba8b18a",
   "metadata": {},
   "outputs": [
    {
     "data": {
      "text/plain": [
       "[3, 5, 1]"
      ]
     },
     "execution_count": 23,
     "metadata": {},
     "output_type": "execute_result"
    }
   ],
   "source": [
    "list(filter(lambda x:x%2!=0,l))"
   ]
  },
  {
   "cell_type": "code",
   "execution_count": 24,
   "id": "325c6f0c-ffde-4de9-bb71-a1385094fd40",
   "metadata": {},
   "outputs": [],
   "source": [
    "l=[-4,8,2,-5,-23,9]"
   ]
  },
  {
   "cell_type": "code",
   "execution_count": 25,
   "id": "d3e0464f-c4fa-4f4f-ac97-7f74e88a07dd",
   "metadata": {},
   "outputs": [
    {
     "data": {
      "text/plain": [
       "[-4, -5, -23]"
      ]
     },
     "execution_count": 25,
     "metadata": {},
     "output_type": "execute_result"
    }
   ],
   "source": [
    "list(filter(lambda x:x<0,l))"
   ]
  },
  {
   "cell_type": "code",
   "execution_count": 26,
   "id": "e1a31544-6c7b-4192-b003-330294e3c131",
   "metadata": {},
   "outputs": [],
   "source": [
    "l=['luffy','ace','sabo','zoro','sanji','chopper']"
   ]
  },
  {
   "cell_type": "code",
   "execution_count": 27,
   "id": "9e341c5f-1f3c-454f-a69e-e9f292ec16cf",
   "metadata": {},
   "outputs": [
    {
     "data": {
      "text/plain": [
       "['luffy', 'ace', 'sabo', 'zoro', 'sanji']"
      ]
     },
     "execution_count": 27,
     "metadata": {},
     "output_type": "execute_result"
    }
   ],
   "source": [
    "list(filter(lambda x: len(x)<6,l))"
   ]
  }
 ],
 "metadata": {
  "kernelspec": {
   "display_name": "Python 3 (ipykernel)",
   "language": "python",
   "name": "python3"
  },
  "language_info": {
   "codemirror_mode": {
    "name": "ipython",
    "version": 3
   },
   "file_extension": ".py",
   "mimetype": "text/x-python",
   "name": "python",
   "nbconvert_exporter": "python",
   "pygments_lexer": "ipython3",
   "version": "3.10.8"
  }
 },
 "nbformat": 4,
 "nbformat_minor": 5
}
