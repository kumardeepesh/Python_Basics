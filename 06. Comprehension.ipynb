{
 "cells": [
  {
   "cell_type": "code",
   "execution_count": 1,
   "id": "51a38447-bec7-4466-b9d5-b4325fc96858",
   "metadata": {},
   "outputs": [
    {
     "data": {
      "text/plain": [
       "[4, 16, 25, 9, 2916, 144, 4225, 529, 6084]"
      ]
     },
     "execution_count": 1,
     "metadata": {},
     "output_type": "execute_result"
    }
   ],
   "source": [
    "l=[2,4,5,3,54,12,65,23,78]\n",
    "l1=[]\n",
    "for i in l:\n",
    "    l1.append(i*i)\n",
    "l1"
   ]
  },
  {
   "cell_type": "code",
   "execution_count": 2,
   "id": "02ee29c4-3aa1-45b6-9190-ffdc047f6da7",
   "metadata": {},
   "outputs": [
    {
     "data": {
      "text/plain": [
       "[2, 4, 5, 3, 54, 12, 65, 23, 78]"
      ]
     },
     "execution_count": 2,
     "metadata": {},
     "output_type": "execute_result"
    }
   ],
   "source": [
    "l"
   ]
  },
  {
   "cell_type": "code",
   "execution_count": 3,
   "id": "a81439b5-355f-4b33-8aa8-db25af129d59",
   "metadata": {},
   "outputs": [
    {
     "data": {
      "text/plain": [
       "[4, 16, 25, 9, 2916, 144, 4225, 529, 6084]"
      ]
     },
     "execution_count": 3,
     "metadata": {},
     "output_type": "execute_result"
    }
   ],
   "source": [
    "[i*i for i in l]"
   ]
  },
  {
   "cell_type": "code",
   "execution_count": 4,
   "id": "b57113f6-e1bf-43be-874c-5feb825a9bb2",
   "metadata": {},
   "outputs": [
    {
     "data": {
      "text/plain": [
       "[1.0, 2.0, 2.5, 1.5, 27.0, 6.0, 32.5, 11.5, 39.0]"
      ]
     },
     "execution_count": 4,
     "metadata": {},
     "output_type": "execute_result"
    }
   ],
   "source": [
    "[i/2 for i in l]"
   ]
  },
  {
   "cell_type": "code",
   "execution_count": 5,
   "id": "46fa4132-e7b2-4428-81c7-8c717f1363dc",
   "metadata": {},
   "outputs": [
    {
     "data": {
      "text/plain": [
       "[1, 2, 2, 1, 27, 6, 32, 11, 39]"
      ]
     },
     "execution_count": 5,
     "metadata": {},
     "output_type": "execute_result"
    }
   ],
   "source": [
    "[i//2 for i in l]"
   ]
  },
  {
   "cell_type": "code",
   "execution_count": 6,
   "id": "a9d438e0-834a-4cce-b46d-7f2cd663b023",
   "metadata": {},
   "outputs": [
    {
     "data": {
      "text/plain": [
       "[2, 4, 54, 12, 78]"
      ]
     },
     "execution_count": 6,
     "metadata": {},
     "output_type": "execute_result"
    }
   ],
   "source": [
    "[i for i in l if i%2==0]"
   ]
  },
  {
   "cell_type": "code",
   "execution_count": 7,
   "id": "8c77f26f-9ab9-491e-b344-a59f918eca30",
   "metadata": {},
   "outputs": [],
   "source": [
    "l1=['luffy','law','zoro','killer','kidd']"
   ]
  },
  {
   "cell_type": "code",
   "execution_count": 8,
   "id": "66f2f2f7-1a63-4a16-92b1-30dc14bf5a34",
   "metadata": {},
   "outputs": [
    {
     "data": {
      "text/plain": [
       "['LUFFY', 'LAW', 'ZORO', 'KILLER', 'KIDD']"
      ]
     },
     "execution_count": 8,
     "metadata": {},
     "output_type": "execute_result"
    }
   ],
   "source": [
    "[i.upper() for i in l1]"
   ]
  },
  {
   "cell_type": "code",
   "execution_count": 9,
   "id": "15514126-7e2f-4961-9218-602987e432de",
   "metadata": {},
   "outputs": [
    {
     "data": {
      "text/plain": [
       "[2, 4, 5, 3, 54, 12, 65, 23, 78]"
      ]
     },
     "execution_count": 9,
     "metadata": {},
     "output_type": "execute_result"
    }
   ],
   "source": [
    "l"
   ]
  },
  {
   "cell_type": "code",
   "execution_count": 10,
   "id": "102aa818-fef7-438f-908d-c8224962fc2a",
   "metadata": {},
   "outputs": [
    {
     "data": {
      "text/plain": [
       "[4, 16, 25, 9, 2916, 144, 4225, 529, 6084]"
      ]
     },
     "execution_count": 10,
     "metadata": {},
     "output_type": "execute_result"
    }
   ],
   "source": [
    "list(i**2 for i in l)"
   ]
  },
  {
   "cell_type": "code",
   "execution_count": 11,
   "id": "124276aa-c72f-4fb6-853a-e5b2b122f81f",
   "metadata": {},
   "outputs": [],
   "source": [
    "t=(3,6,43,76,23,78,28)"
   ]
  },
  {
   "cell_type": "code",
   "execution_count": 12,
   "id": "14740c3f-6a8b-43c2-b2d8-61cba95f471b",
   "metadata": {},
   "outputs": [
    {
     "data": {
      "text/plain": [
       "[9, 36, 1849, 5776, 529, 6084, 784]"
      ]
     },
     "execution_count": 12,
     "metadata": {},
     "output_type": "execute_result"
    }
   ],
   "source": [
    "list(i**2 for i in t)"
   ]
  },
  {
   "cell_type": "code",
   "execution_count": 13,
   "id": "e08973e1-d273-4b19-883c-364616a2bd8c",
   "metadata": {},
   "outputs": [],
   "source": [
    "d={'luffy':3,'zoro':1,'shanks':4,'rodger':5}"
   ]
  },
  {
   "cell_type": "code",
   "execution_count": 14,
   "id": "eae696cc-16bc-46e8-ab19-2a22957c8002",
   "metadata": {},
   "outputs": [
    {
     "data": {
      "text/plain": [
       "{'luffy': 9, 'zoro': 1, 'shanks': 16, 'rodger': 25}"
      ]
     },
     "execution_count": 14,
     "metadata": {},
     "output_type": "execute_result"
    }
   ],
   "source": [
    "{k:v**2for k,v in d.items()}"
   ]
  },
  {
   "cell_type": "code",
   "execution_count": 15,
   "id": "606548a0-ebfd-48f7-ba40-627c2b325c5f",
   "metadata": {},
   "outputs": [
    {
     "data": {
      "text/plain": [
       "{'luffy': 3, 'zoro': 1, 'shanks': 4, 'rodger': 5}"
      ]
     },
     "execution_count": 15,
     "metadata": {},
     "output_type": "execute_result"
    }
   ],
   "source": [
    "d"
   ]
  },
  {
   "cell_type": "code",
   "execution_count": 16,
   "id": "4584105e-b266-4311-ad44-4b2cdec9b62d",
   "metadata": {},
   "outputs": [
    {
     "data": {
      "text/plain": [
       "{'luffy': 3, 'shanks': 4, 'rodger': 5}"
      ]
     },
     "execution_count": 16,
     "metadata": {},
     "output_type": "execute_result"
    }
   ],
   "source": [
    "{k:v for k,v in d.items() if v>1}"
   ]
  }
 ],
 "metadata": {
  "kernelspec": {
   "display_name": "Python 3 (ipykernel)",
   "language": "python",
   "name": "python3"
  },
  "language_info": {
   "codemirror_mode": {
    "name": "ipython",
    "version": 3
   },
   "file_extension": ".py",
   "mimetype": "text/x-python",
   "name": "python",
   "nbconvert_exporter": "python",
   "pygments_lexer": "ipython3",
   "version": "3.10.8"
  }
 },
 "nbformat": 4,
 "nbformat_minor": 5
}
