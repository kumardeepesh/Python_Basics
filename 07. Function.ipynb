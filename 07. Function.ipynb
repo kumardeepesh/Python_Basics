{
 "cells": [
  {
   "cell_type": "code",
   "execution_count": 1,
   "id": "27f5438d-4a57-4317-aff3-84dbbf682216",
   "metadata": {},
   "outputs": [
    {
     "name": "stdout",
     "output_type": "stream",
     "text": [
      "Hello World\n"
     ]
    }
   ],
   "source": [
    "print('Hello World')"
   ]
  },
  {
   "cell_type": "code",
   "execution_count": 2,
   "id": "1b1e9c25-40e4-46f5-b4ae-cafafcfce0e2",
   "metadata": {},
   "outputs": [],
   "source": [
    "l=[1,2,3,6,7,5]"
   ]
  },
  {
   "cell_type": "code",
   "execution_count": 3,
   "id": "809a5aac-7d99-446f-b393-269424515a4a",
   "metadata": {},
   "outputs": [
    {
     "data": {
      "text/plain": [
       "6"
      ]
     },
     "execution_count": 3,
     "metadata": {},
     "output_type": "execute_result"
    }
   ],
   "source": [
    "len(l)"
   ]
  },
  {
   "cell_type": "code",
   "execution_count": 4,
   "id": "20135868-7c43-487c-a4d0-ec8ba3bee8fb",
   "metadata": {},
   "outputs": [
    {
     "data": {
      "text/plain": [
       "list"
      ]
     },
     "execution_count": 4,
     "metadata": {},
     "output_type": "execute_result"
    }
   ],
   "source": [
    "type(l)"
   ]
  },
  {
   "cell_type": "code",
   "execution_count": 5,
   "id": "145aeb68-2c7c-4657-ab18-7d88be23327e",
   "metadata": {},
   "outputs": [],
   "source": [
    "def first():\n",
    "    print('my first function')"
   ]
  },
  {
   "cell_type": "code",
   "execution_count": 6,
   "id": "5b9f2c53-5f4a-44b7-9523-9dfd8d483364",
   "metadata": {},
   "outputs": [
    {
     "name": "stdout",
     "output_type": "stream",
     "text": [
      "my first function\n"
     ]
    }
   ],
   "source": [
    "first()"
   ]
  },
  {
   "cell_type": "code",
   "execution_count": 7,
   "id": "b006e0ff-1bdc-4741-b392-5ef4001a5f98",
   "metadata": {},
   "outputs": [
    {
     "name": "stdout",
     "output_type": "stream",
     "text": [
      "my first function\n"
     ]
    },
    {
     "ename": "TypeError",
     "evalue": "unsupported operand type(s) for +: 'NoneType' and 'str'",
     "output_type": "error",
     "traceback": [
      "\u001b[0;31m---------------------------------------------------------------------------\u001b[0m",
      "\u001b[0;31mTypeError\u001b[0m                                 Traceback (most recent call last)",
      "Cell \u001b[0;32mIn[7], line 1\u001b[0m\n\u001b[0;32m----> 1\u001b[0m \u001b[43mfirst\u001b[49m\u001b[43m(\u001b[49m\u001b[43m)\u001b[49m\u001b[43m \u001b[49m\u001b[38;5;241;43m+\u001b[39;49m\u001b[43m \u001b[49m\u001b[38;5;124;43m'\u001b[39;49m\u001b[38;5;124;43myay\u001b[39;49m\u001b[38;5;124;43m'\u001b[39;49m\n",
      "\u001b[0;31mTypeError\u001b[0m: unsupported operand type(s) for +: 'NoneType' and 'str'"
     ]
    }
   ],
   "source": [
    "first() + 'yay'"
   ]
  },
  {
   "cell_type": "code",
   "execution_count": 8,
   "id": "0a18fae1-c60d-48ce-b41d-19f606c5eb8f",
   "metadata": {},
   "outputs": [],
   "source": [
    "def first():\n",
    "    return 'my first return'"
   ]
  },
  {
   "cell_type": "code",
   "execution_count": 9,
   "id": "c13578c4-7fa7-4097-a08a-dbf5822863a6",
   "metadata": {},
   "outputs": [
    {
     "data": {
      "text/plain": [
       "'my first return'"
      ]
     },
     "execution_count": 9,
     "metadata": {},
     "output_type": "execute_result"
    }
   ],
   "source": [
    "first()"
   ]
  },
  {
   "cell_type": "code",
   "execution_count": 10,
   "id": "d431a58b-f14d-4de4-9910-d43ffa5c7640",
   "metadata": {},
   "outputs": [
    {
     "data": {
      "text/plain": [
       "'my first return yay'"
      ]
     },
     "execution_count": 10,
     "metadata": {},
     "output_type": "execute_result"
    }
   ],
   "source": [
    "first()+' yay'"
   ]
  },
  {
   "cell_type": "code",
   "execution_count": 11,
   "id": "c2467f3e-23ea-4b33-a4bf-af00529dd6c9",
   "metadata": {},
   "outputs": [],
   "source": [
    "def two():\n",
    "    return 332,56,86,'law',[5.2,86,23],9.34"
   ]
  },
  {
   "cell_type": "code",
   "execution_count": 12,
   "id": "89330000-9b29-4da5-a4ce-670a4daaf5cf",
   "metadata": {},
   "outputs": [
    {
     "data": {
      "text/plain": [
       "(332, 56, 86, 'law', [5.2, 86, 23], 9.34)"
      ]
     },
     "execution_count": 12,
     "metadata": {},
     "output_type": "execute_result"
    }
   ],
   "source": [
    "two()"
   ]
  },
  {
   "cell_type": "code",
   "execution_count": 13,
   "id": "a4684ce6-f874-4047-ba0f-ba290e3b9c3f",
   "metadata": {},
   "outputs": [],
   "source": [
    "a,b,c,d,e,f=two()"
   ]
  },
  {
   "cell_type": "code",
   "execution_count": 14,
   "id": "778fc7a0-04ec-4d58-aef1-02306df869d6",
   "metadata": {},
   "outputs": [
    {
     "name": "stdout",
     "output_type": "stream",
     "text": [
      "332 \n",
      " 56 \n",
      " 86 \n",
      " law \n",
      " [5.2, 86, 23] \n",
      " 9.34\n"
     ]
    }
   ],
   "source": [
    "print(a,'\\n',b,'\\n',c,'\\n',d,'\\n',e,'\\n',f)"
   ]
  },
  {
   "cell_type": "code",
   "execution_count": 15,
   "id": "bea98c69-6c2b-4848-a8e3-f8b456fe406e",
   "metadata": {},
   "outputs": [],
   "source": [
    "def test():\n",
    "    a=8+4/3\n",
    "    return a"
   ]
  },
  {
   "cell_type": "code",
   "execution_count": 16,
   "id": "688a13d4-ead0-4c7b-a96a-7db425b5b803",
   "metadata": {},
   "outputs": [
    {
     "data": {
      "text/plain": [
       "9.333333333333334"
      ]
     },
     "execution_count": 16,
     "metadata": {},
     "output_type": "execute_result"
    }
   ],
   "source": [
    "test()"
   ]
  },
  {
   "cell_type": "code",
   "execution_count": 17,
   "id": "217164bd-0247-4b32-9596-b3a93dbf5f56",
   "metadata": {},
   "outputs": [],
   "source": [
    "def test(a,b,c):\n",
    "    d=a+b/c\n",
    "    return d"
   ]
  },
  {
   "cell_type": "code",
   "execution_count": 18,
   "id": "a5da5424-c014-4e61-9e4e-a01d02b354e8",
   "metadata": {},
   "outputs": [
    {
     "ename": "TypeError",
     "evalue": "test() missing 3 required positional arguments: 'a', 'b', and 'c'",
     "output_type": "error",
     "traceback": [
      "\u001b[0;31m---------------------------------------------------------------------------\u001b[0m",
      "\u001b[0;31mTypeError\u001b[0m                                 Traceback (most recent call last)",
      "Cell \u001b[0;32mIn[18], line 1\u001b[0m\n\u001b[0;32m----> 1\u001b[0m \u001b[43mtest\u001b[49m\u001b[43m(\u001b[49m\u001b[43m)\u001b[49m\n",
      "\u001b[0;31mTypeError\u001b[0m: test() missing 3 required positional arguments: 'a', 'b', and 'c'"
     ]
    }
   ],
   "source": [
    "test()"
   ]
  },
  {
   "cell_type": "code",
   "execution_count": 19,
   "id": "31821f5b-fbc0-4911-92c8-16bba2604485",
   "metadata": {},
   "outputs": [
    {
     "data": {
      "text/plain": [
       "12.0"
      ]
     },
     "execution_count": 19,
     "metadata": {},
     "output_type": "execute_result"
    }
   ],
   "source": [
    "test(5,7,1)"
   ]
  },
  {
   "cell_type": "code",
   "execution_count": 20,
   "id": "51aa9e22-2cda-4db0-ae24-2d356aac6862",
   "metadata": {},
   "outputs": [],
   "source": [
    "def test(a,b):\n",
    "    return a+b"
   ]
  },
  {
   "cell_type": "code",
   "execution_count": 21,
   "id": "48da1d8e-1d09-4010-bfec-8370ef28bf8b",
   "metadata": {},
   "outputs": [
    {
     "data": {
      "text/plain": [
       "15"
      ]
     },
     "execution_count": 21,
     "metadata": {},
     "output_type": "execute_result"
    }
   ],
   "source": [
    "test(6,9)"
   ]
  },
  {
   "cell_type": "code",
   "execution_count": 22,
   "id": "94bbe6de-c8f0-4a23-859c-2b97f7372a65",
   "metadata": {},
   "outputs": [
    {
     "data": {
      "text/plain": [
       "'roronoa zoro'"
      ]
     },
     "execution_count": 22,
     "metadata": {},
     "output_type": "execute_result"
    }
   ],
   "source": [
    "test('roronoa',' zoro')"
   ]
  },
  {
   "cell_type": "code",
   "execution_count": 23,
   "id": "be766f97-97fe-469b-94de-922a7b49f38f",
   "metadata": {},
   "outputs": [
    {
     "data": {
      "text/plain": [
       "[1, 2, 3, 4, 5, 6, 7, 8, 9]"
      ]
     },
     "execution_count": 23,
     "metadata": {},
     "output_type": "execute_result"
    }
   ],
   "source": [
    "test([1,2,3,4,5],[6,7,8,9])"
   ]
  },
  {
   "cell_type": "code",
   "execution_count": 24,
   "id": "89797d01-2959-4a99-b2f0-77d5a6390d64",
   "metadata": {},
   "outputs": [],
   "source": [
    "l=[21,3,6,4,87,'ace','zoro','nami',[1,2,7,9]]"
   ]
  },
  {
   "cell_type": "code",
   "execution_count": 25,
   "id": "92ef8bd7-af47-407c-9aad-f94681276747",
   "metadata": {},
   "outputs": [],
   "source": [
    "l1=[]\n",
    "for i in l:\n",
    "    if type(i)==int or type(i)==float:\n",
    "        l1.append(i)"
   ]
  },
  {
   "cell_type": "code",
   "execution_count": 26,
   "id": "f96d4df2-4a1c-4c85-b169-4294d2bbd2df",
   "metadata": {},
   "outputs": [
    {
     "data": {
      "text/plain": [
       "[21, 3, 6, 4, 87]"
      ]
     },
     "execution_count": 26,
     "metadata": {},
     "output_type": "execute_result"
    }
   ],
   "source": [
    "l1"
   ]
  },
  {
   "cell_type": "code",
   "execution_count": 27,
   "id": "7b15b9b1-e376-4201-9ca9-cb7bd275753e",
   "metadata": {},
   "outputs": [],
   "source": [
    "def test(l):\n",
    "    l1=[]\n",
    "    for i in l:\n",
    "        if type(i)==int or type(i)==float:\n",
    "            l1.append(i)\n",
    "    return l1"
   ]
  },
  {
   "cell_type": "code",
   "execution_count": 28,
   "id": "bca2e231-1c91-4f76-bd92-ab46cb692a46",
   "metadata": {},
   "outputs": [
    {
     "data": {
      "text/plain": [
       "[21, 3, 6, 4, 87]"
      ]
     },
     "execution_count": 28,
     "metadata": {},
     "output_type": "execute_result"
    }
   ],
   "source": [
    "test(l)"
   ]
  },
  {
   "cell_type": "code",
   "execution_count": 29,
   "id": "f1830676-049c-4afb-a387-31377f1fc79c",
   "metadata": {},
   "outputs": [
    {
     "data": {
      "text/plain": [
       "[21, 3, 6, 4, 87, 'ace', 'zoro', 'nami', [1, 2, 7, 9]]"
      ]
     },
     "execution_count": 29,
     "metadata": {},
     "output_type": "execute_result"
    }
   ],
   "source": [
    "l"
   ]
  },
  {
   "cell_type": "code",
   "execution_count": 30,
   "id": "0ae286d8-0aaa-4d22-a84b-20183e42ec75",
   "metadata": {},
   "outputs": [],
   "source": [
    "def test(l):\n",
    "    l1=[]\n",
    "    l2=[]\n",
    "    for i in l:\n",
    "        if type(i)==int or type(i)==float:\n",
    "            l1.append(i)\n",
    "        elif type(i)==list or type(i)==set or type(i)==tuple:\n",
    "            a,b=test(i)\n",
    "            l1+=a\n",
    "            l2+=b\n",
    "        else:\n",
    "            l2.append(i)\n",
    "    return l1,l2"
   ]
  },
  {
   "cell_type": "code",
   "execution_count": 31,
   "id": "11eea42d-8b4d-484d-af9a-e7c52f215166",
   "metadata": {},
   "outputs": [
    {
     "data": {
      "text/plain": [
       "([21, 3, 6, 4, 87, 1, 2, 7, 9], ['ace', 'zoro', 'nami'])"
      ]
     },
     "execution_count": 31,
     "metadata": {},
     "output_type": "execute_result"
    }
   ],
   "source": [
    "test(l)"
   ]
  },
  {
   "cell_type": "code",
   "execution_count": 32,
   "id": "19adaed9-acdb-41fa-9266-495fd7f2cb71",
   "metadata": {},
   "outputs": [],
   "source": [
    "def test(l):\n",
    "    l1=[]\n",
    "    for i in l:\n",
    "        if type(i)==list:\n",
    "            for j in i:\n",
    "                if type(j)==int or type(j)==float:\n",
    "                    l1.append(j)\n",
    "        else:\n",
    "            if type(i)==int or type(i)==float:\n",
    "                l1.append(i)\n",
    "    return l1"
   ]
  },
  {
   "cell_type": "code",
   "execution_count": 33,
   "id": "e364359e-148b-4dd1-9659-c6bb39dc9bb5",
   "metadata": {},
   "outputs": [],
   "source": [
    "a=[21,3,6,4,87,'ace','zoro','nami',[1,2,7,9]]"
   ]
  },
  {
   "cell_type": "code",
   "execution_count": 34,
   "id": "11dce38b-937e-46d3-bf78-138ac0206455",
   "metadata": {},
   "outputs": [
    {
     "data": {
      "text/plain": [
       "[21, 3, 6, 4, 87, 1, 2, 7, 9]"
      ]
     },
     "execution_count": 34,
     "metadata": {},
     "output_type": "execute_result"
    }
   ],
   "source": [
    "test(a)"
   ]
  },
  {
   "cell_type": "code",
   "execution_count": 35,
   "id": "f862b5bb-0ea5-4358-88e5-36a449accd8c",
   "metadata": {},
   "outputs": [],
   "source": [
    "a=[21,3,6,4,87,['ace','zoro','nami'],[1,2,7,9]]"
   ]
  },
  {
   "cell_type": "code",
   "execution_count": 36,
   "id": "d2b832c1-2f73-4d79-aa81-bd1ab500fa5c",
   "metadata": {},
   "outputs": [
    {
     "data": {
      "text/plain": [
       "[21, 3, 6, 4, 87, 1, 2, 7, 9]"
      ]
     },
     "execution_count": 36,
     "metadata": {},
     "output_type": "execute_result"
    }
   ],
   "source": [
    "test(a)"
   ]
  },
  {
   "cell_type": "code",
   "execution_count": 37,
   "id": "813be340-07ed-49ca-8859-f2a2b35c5d2c",
   "metadata": {},
   "outputs": [],
   "source": [
    "def test(l):\n",
    "    '''Function for extracting numbers from a list'''\n",
    "    l1=[]\n",
    "    for i in l:\n",
    "        if type(i)==list:\n",
    "            for j in i:\n",
    "                if type(j)==int or type(j)==float:\n",
    "                    l1.append(j)\n",
    "        else:\n",
    "            if type(i)==int or type(i)==float:\n",
    "                l1.append(i)\n",
    "    return l1"
   ]
  },
  {
   "cell_type": "code",
   "execution_count": 38,
   "id": "3510d225-f859-4a04-9bbd-878367aafe8d",
   "metadata": {},
   "outputs": [
    {
     "data": {
      "text/plain": [
       "\u001b[0;31mSignature:\u001b[0m \u001b[0mtest\u001b[0m\u001b[0;34m(\u001b[0m\u001b[0ml\u001b[0m\u001b[0;34m)\u001b[0m\u001b[0;34m\u001b[0m\u001b[0;34m\u001b[0m\u001b[0m\n",
       "\u001b[0;31mDocstring:\u001b[0m Function for extracting numbers from a list\n",
       "\u001b[0;31mFile:\u001b[0m      /tmp/ipykernel_228/3197497458.py\n",
       "\u001b[0;31mType:\u001b[0m      function\n"
      ]
     },
     "metadata": {},
     "output_type": "display_data"
    }
   ],
   "source": [
    "test?"
   ]
  },
  {
   "cell_type": "code",
   "execution_count": 39,
   "id": "bdea03a5-e438-4f60-ba2b-8a5b82ec27fe",
   "metadata": {},
   "outputs": [],
   "source": [
    "def test(*args):\n",
    "    return args"
   ]
  },
  {
   "cell_type": "code",
   "execution_count": 40,
   "id": "3a66692c-ea99-4720-b7d0-d1bbbe571183",
   "metadata": {},
   "outputs": [
    {
     "data": {
      "text/plain": [
       "()"
      ]
     },
     "execution_count": 40,
     "metadata": {},
     "output_type": "execute_result"
    }
   ],
   "source": [
    "test()"
   ]
  },
  {
   "cell_type": "code",
   "execution_count": 41,
   "id": "0c06ed45-b900-4731-aef9-fbd0ff1673b4",
   "metadata": {},
   "outputs": [
    {
     "data": {
      "text/plain": [
       "(1, 2, 3)"
      ]
     },
     "execution_count": 41,
     "metadata": {},
     "output_type": "execute_result"
    }
   ],
   "source": [
    "test(1,2,3)"
   ]
  },
  {
   "cell_type": "code",
   "execution_count": 42,
   "id": "fd8a3ef4-b2be-4e62-a94c-ac0bc313d287",
   "metadata": {},
   "outputs": [
    {
     "data": {
      "text/plain": [
       "(1, 6, 3, 7, 3, 'ace', [25, 35, 45])"
      ]
     },
     "execution_count": 42,
     "metadata": {},
     "output_type": "execute_result"
    }
   ],
   "source": [
    "test(1,6,3,7,3,'ace',[25,35,45])"
   ]
  },
  {
   "cell_type": "code",
   "execution_count": 43,
   "id": "226052c2-b6e2-4d40-8245-effcdd62dd98",
   "metadata": {},
   "outputs": [],
   "source": [
    "def test(*google):\n",
    "    return google"
   ]
  },
  {
   "cell_type": "code",
   "execution_count": 44,
   "id": "bdd2cb82-a4c9-4b2d-8629-bebaf8f3d1ba",
   "metadata": {},
   "outputs": [
    {
     "data": {
      "text/plain": [
       "(1, 6, 3, 7, 3, 'ace', [25, 35, 45])"
      ]
     },
     "execution_count": 44,
     "metadata": {},
     "output_type": "execute_result"
    }
   ],
   "source": [
    "test(1,6,3,7,3,'ace',[25,35,45])"
   ]
  },
  {
   "cell_type": "code",
   "execution_count": 45,
   "id": "f1283572-fbac-4b2d-8110-652fde65b3dd",
   "metadata": {},
   "outputs": [],
   "source": [
    "def test(*args,a):\n",
    "    return args,a"
   ]
  },
  {
   "cell_type": "code",
   "execution_count": 46,
   "id": "f18e980a-ee22-4c50-b55e-443a31d439f4",
   "metadata": {},
   "outputs": [
    {
     "ename": "TypeError",
     "evalue": "test() missing 1 required keyword-only argument: 'a'",
     "output_type": "error",
     "traceback": [
      "\u001b[0;31m---------------------------------------------------------------------------\u001b[0m",
      "\u001b[0;31mTypeError\u001b[0m                                 Traceback (most recent call last)",
      "Cell \u001b[0;32mIn[46], line 1\u001b[0m\n\u001b[0;32m----> 1\u001b[0m \u001b[43mtest\u001b[49m\u001b[43m(\u001b[49m\u001b[38;5;241;43m1\u001b[39;49m\u001b[43m,\u001b[49m\u001b[38;5;241;43m2\u001b[39;49m\u001b[43m,\u001b[49m\u001b[38;5;241;43m3\u001b[39;49m\u001b[43m,\u001b[49m\u001b[38;5;241;43m4\u001b[39;49m\u001b[43m,\u001b[49m\u001b[38;5;241;43m5\u001b[39;49m\u001b[43m)\u001b[49m\n",
      "\u001b[0;31mTypeError\u001b[0m: test() missing 1 required keyword-only argument: 'a'"
     ]
    }
   ],
   "source": [
    "test(1,2,3,4,5)"
   ]
  },
  {
   "cell_type": "code",
   "execution_count": 47,
   "id": "6818e141-7473-4322-b5d5-86c3df7295f3",
   "metadata": {},
   "outputs": [
    {
     "data": {
      "text/plain": [
       "((1, 2, 3, 4, 5), 53)"
      ]
     },
     "execution_count": 47,
     "metadata": {},
     "output_type": "execute_result"
    }
   ],
   "source": [
    "test(1,2,3,4,5,a=53)"
   ]
  },
  {
   "cell_type": "code",
   "execution_count": 48,
   "id": "007f0172-a23e-4445-8583-9a51f0b58ca3",
   "metadata": {},
   "outputs": [],
   "source": [
    "def test(c,d,a=5,b=75):\n",
    "    return a,b,c,d"
   ]
  },
  {
   "cell_type": "code",
   "execution_count": 49,
   "id": "4c6b7288-94c1-41a2-8a3e-616e7a946f3a",
   "metadata": {},
   "outputs": [
    {
     "data": {
      "text/plain": [
       "(5, 75, 1, 1)"
      ]
     },
     "execution_count": 49,
     "metadata": {},
     "output_type": "execute_result"
    }
   ],
   "source": [
    "test(1,1)"
   ]
  },
  {
   "cell_type": "code",
   "execution_count": 50,
   "id": "60fd824d-de59-47eb-8980-b6fa8f9ef770",
   "metadata": {},
   "outputs": [
    {
     "data": {
      "text/plain": [
       "(3, 4, 1, 2)"
      ]
     },
     "execution_count": 50,
     "metadata": {},
     "output_type": "execute_result"
    }
   ],
   "source": [
    "test(1,2,3,4)"
   ]
  },
  {
   "cell_type": "code",
   "execution_count": 51,
   "id": "9f5c2d32-144f-40d1-9e6f-4317009b9535",
   "metadata": {},
   "outputs": [],
   "source": [
    "def test(**kwargs):\n",
    "    return kwargs"
   ]
  },
  {
   "cell_type": "code",
   "execution_count": 52,
   "id": "411b52a6-a31e-4486-b950-6712fa252470",
   "metadata": {},
   "outputs": [
    {
     "data": {
      "text/plain": [
       "dict"
      ]
     },
     "execution_count": 52,
     "metadata": {},
     "output_type": "execute_result"
    }
   ],
   "source": [
    "type(test())"
   ]
  },
  {
   "cell_type": "code",
   "execution_count": 53,
   "id": "e0acfcc1-cebc-4903-9376-69f76d706e6c",
   "metadata": {},
   "outputs": [
    {
     "data": {
      "text/plain": [
       "{'a': [1, 2, 3, 4], 'b': ['1', '2', '3', '4'], 'c': 89}"
      ]
     },
     "execution_count": 53,
     "metadata": {},
     "output_type": "execute_result"
    }
   ],
   "source": [
    "test(a=[1,2,3,4],b=['1','2','3','4'],c=89)"
   ]
  }
 ],
 "metadata": {
  "kernelspec": {
   "display_name": "Python 3 (ipykernel)",
   "language": "python",
   "name": "python3"
  },
  "language_info": {
   "codemirror_mode": {
    "name": "ipython",
    "version": 3
   },
   "file_extension": ".py",
   "mimetype": "text/x-python",
   "name": "python",
   "nbconvert_exporter": "python",
   "pygments_lexer": "ipython3",
   "version": "3.10.8"
  }
 },
 "nbformat": 4,
 "nbformat_minor": 5
}
