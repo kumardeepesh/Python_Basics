{
 "cells": [
  {
   "cell_type": "code",
   "execution_count": 1,
   "id": "b4440bcc-d17d-467b-b89d-23c0dc9b4e5c",
   "metadata": {},
   "outputs": [],
   "source": [
    "l=[1,2,3,4,5,6,7,8,9]"
   ]
  },
  {
   "cell_type": "code",
   "execution_count": 2,
   "id": "cfd9648a-7f6f-40d5-9bd7-bd3bc1b9120b",
   "metadata": {},
   "outputs": [
    {
     "name": "stdout",
     "output_type": "stream",
     "text": [
      "1\n",
      "2\n",
      "3\n",
      "4\n",
      "5\n",
      "6\n",
      "7\n",
      "8\n",
      "9\n"
     ]
    }
   ],
   "source": [
    "for i in l:\n",
    "    print(i)"
   ]
  },
  {
   "cell_type": "code",
   "execution_count": 3,
   "id": "94e32e64-cec7-45a1-a31c-1f0ffdd433f2",
   "metadata": {},
   "outputs": [],
   "source": [
    "l1=['luffy','dragon','garp','rodger']"
   ]
  },
  {
   "cell_type": "code",
   "execution_count": 4,
   "id": "5855f7a2-9b86-4065-b89a-b957cb14108a",
   "metadata": {},
   "outputs": [
    {
     "name": "stdout",
     "output_type": "stream",
     "text": [
      "luffy\n",
      "dragon\n",
      "garp\n",
      "rodger\n"
     ]
    }
   ],
   "source": [
    "for i in l1:\n",
    "    print(i)"
   ]
  },
  {
   "cell_type": "code",
   "execution_count": 5,
   "id": "5fdacc4c-de4c-4a82-90ef-5329746541a3",
   "metadata": {},
   "outputs": [
    {
     "data": {
      "text/plain": [
       "['luffy', 'dragon', 'garp', 'rodger']"
      ]
     },
     "execution_count": 5,
     "metadata": {},
     "output_type": "execute_result"
    }
   ],
   "source": [
    "l1"
   ]
  },
  {
   "cell_type": "code",
   "execution_count": 6,
   "id": "57fda185-0172-43be-889c-8366514084d7",
   "metadata": {},
   "outputs": [
    {
     "name": "stdout",
     "output_type": "stream",
     "text": [
      "luffy\n",
      "dragon\n",
      "garp\n",
      "rodger\n",
      "one piece\n"
     ]
    }
   ],
   "source": [
    "for i in l1:\n",
    "    print(i)\n",
    "else:\n",
    "    print('one piece')"
   ]
  },
  {
   "cell_type": "code",
   "execution_count": 7,
   "id": "e4158c6f-c9e4-44ae-8db5-d3a9eac1b215",
   "metadata": {},
   "outputs": [
    {
     "name": "stdout",
     "output_type": "stream",
     "text": [
      "luffy\n",
      "dragon\n"
     ]
    }
   ],
   "source": [
    "for i in l1:\n",
    "    if i=='garp':\n",
    "        break\n",
    "    print(i)\n",
    "else:\n",
    "    print('one piece')"
   ]
  },
  {
   "cell_type": "code",
   "execution_count": 8,
   "id": "e4aa71c8-cc6f-421e-a0b7-5402f3977be5",
   "metadata": {},
   "outputs": [
    {
     "name": "stdout",
     "output_type": "stream",
     "text": [
      "luffy\n",
      "dragon\n",
      "rodger\n",
      "one piece\n"
     ]
    }
   ],
   "source": [
    "for i in l1:\n",
    "    if i=='garp':\n",
    "        continue\n",
    "    print(i)\n",
    "else:\n",
    "    print('one piece')"
   ]
  },
  {
   "cell_type": "code",
   "execution_count": 9,
   "id": "855aacaf-f20b-4929-9487-4e6d94175b17",
   "metadata": {},
   "outputs": [
    {
     "data": {
      "text/plain": [
       "range(0, 5)"
      ]
     },
     "execution_count": 9,
     "metadata": {},
     "output_type": "execute_result"
    }
   ],
   "source": [
    "range(5)"
   ]
  },
  {
   "cell_type": "code",
   "execution_count": 10,
   "id": "3d3eff3c-8eb5-436e-9b83-457cb43a09c6",
   "metadata": {},
   "outputs": [
    {
     "data": {
      "text/plain": [
       "[0, 1, 2, 3, 4]"
      ]
     },
     "execution_count": 10,
     "metadata": {},
     "output_type": "execute_result"
    }
   ],
   "source": [
    "list(range(5))"
   ]
  },
  {
   "cell_type": "code",
   "execution_count": 11,
   "id": "41bfae72-994a-4296-bd83-17f87d7086d7",
   "metadata": {},
   "outputs": [
    {
     "data": {
      "text/plain": [
       "[0, 1, 2, 3, 4]"
      ]
     },
     "execution_count": 11,
     "metadata": {},
     "output_type": "execute_result"
    }
   ],
   "source": [
    "list(range(0,5,1))"
   ]
  },
  {
   "cell_type": "code",
   "execution_count": 12,
   "id": "f38d1230-7b8e-4545-bfab-7764b1c1f2ec",
   "metadata": {},
   "outputs": [
    {
     "data": {
      "text/plain": [
       "[]"
      ]
     },
     "execution_count": 12,
     "metadata": {},
     "output_type": "execute_result"
    }
   ],
   "source": [
    "list(range(0,5,-1))"
   ]
  },
  {
   "cell_type": "code",
   "execution_count": 13,
   "id": "9903b742-7310-4ce6-a82d-3cbd3a981497",
   "metadata": {},
   "outputs": [
    {
     "data": {
      "text/plain": [
       "[]"
      ]
     },
     "execution_count": 13,
     "metadata": {},
     "output_type": "execute_result"
    }
   ],
   "source": [
    "list(range(5,0,1))"
   ]
  },
  {
   "cell_type": "code",
   "execution_count": 14,
   "id": "1cf555b6-c84b-4168-b7b0-57d08bced796",
   "metadata": {},
   "outputs": [
    {
     "data": {
      "text/plain": [
       "[5, 4, 3, 2, 1]"
      ]
     },
     "execution_count": 14,
     "metadata": {},
     "output_type": "execute_result"
    }
   ],
   "source": [
    "list(range(5,0,-1))"
   ]
  },
  {
   "cell_type": "code",
   "execution_count": 15,
   "id": "91423f94-ed1a-403a-977c-313b6919a299",
   "metadata": {},
   "outputs": [
    {
     "data": {
      "text/plain": [
       "[0, 1, 2, 3, 4]"
      ]
     },
     "execution_count": 15,
     "metadata": {},
     "output_type": "execute_result"
    }
   ],
   "source": [
    "list(range(0,5,1))"
   ]
  },
  {
   "cell_type": "code",
   "execution_count": 16,
   "id": "9c2003e7-9414-40f2-bd1b-e21b16942f40",
   "metadata": {},
   "outputs": [
    {
     "data": {
      "text/plain": [
       "[0, 2, 4, 6, 8, 10, 12, 14]"
      ]
     },
     "execution_count": 16,
     "metadata": {},
     "output_type": "execute_result"
    }
   ],
   "source": [
    "list(range(0,16,2))"
   ]
  },
  {
   "cell_type": "code",
   "execution_count": 17,
   "id": "09bc2ddb-835f-4217-8fe4-a47c05c8a6b0",
   "metadata": {},
   "outputs": [
    {
     "data": {
      "text/plain": [
       "[-10, -9, -8, -7, -6, -5, -4, -3, -2, -1]"
      ]
     },
     "execution_count": 17,
     "metadata": {},
     "output_type": "execute_result"
    }
   ],
   "source": [
    "list(range(-10,0,1))"
   ]
  },
  {
   "cell_type": "code",
   "execution_count": 18,
   "id": "45ef1fcf-bb5f-4479-8b0b-2ed3df53bda0",
   "metadata": {},
   "outputs": [
    {
     "data": {
      "text/plain": [
       "[-10, -11, -12, -13, -14, -15, -16, -17, -18, -19]"
      ]
     },
     "execution_count": 18,
     "metadata": {},
     "output_type": "execute_result"
    }
   ],
   "source": [
    "list(range(-10,-20,-1))"
   ]
  },
  {
   "cell_type": "code",
   "execution_count": 19,
   "id": "db91cebc-d018-4897-a523-143238fcc3e3",
   "metadata": {},
   "outputs": [
    {
     "name": "stdout",
     "output_type": "stream",
     "text": [
      "rodger\n",
      "garp\n",
      "dragon\n",
      "luffy\n",
      "one piece\n"
     ]
    }
   ],
   "source": [
    "for i in l1[::-1]:\n",
    "    print(i)\n",
    "else:\n",
    "    print('one piece')"
   ]
  },
  {
   "cell_type": "code",
   "execution_count": 20,
   "id": "db7d95ae-bde3-46c4-adc9-ad5a7563ad33",
   "metadata": {},
   "outputs": [
    {
     "data": {
      "text/plain": [
       "[0, 1, 2, 3]"
      ]
     },
     "execution_count": 20,
     "metadata": {},
     "output_type": "execute_result"
    }
   ],
   "source": [
    "list(range(len(l1)))"
   ]
  },
  {
   "cell_type": "code",
   "execution_count": 21,
   "id": "6f8e81f9-3440-48db-803c-2603a4e08f7f",
   "metadata": {},
   "outputs": [
    {
     "name": "stdout",
     "output_type": "stream",
     "text": [
      "luffy\n",
      "dragon\n",
      "garp\n",
      "rodger\n",
      "one piece\n"
     ]
    }
   ],
   "source": [
    "for i in range(len(l1)):\n",
    "    print(l1[i])\n",
    "else:\n",
    "    print('one piece')"
   ]
  },
  {
   "cell_type": "code",
   "execution_count": 22,
   "id": "6d3e45e8-98fc-4220-98f3-c7b4511292bf",
   "metadata": {},
   "outputs": [
    {
     "name": "stdout",
     "output_type": "stream",
     "text": [
      "rodger\n",
      "garp\n",
      "dragon\n",
      "luffy\n",
      "one piece\n"
     ]
    }
   ],
   "source": [
    "for i in range(len(l1)-1,-1,-1):\n",
    "    print(l1[i])\n",
    "else:\n",
    "    print('one piece')"
   ]
  },
  {
   "cell_type": "code",
   "execution_count": 23,
   "id": "d9053144-1b64-45a6-9441-9954a91ceee0",
   "metadata": {},
   "outputs": [
    {
     "data": {
      "text/plain": [
       "[3, 2, 1, 0, -1, -2, -3, -4, -5, -6, -7, -8, -9, -10]"
      ]
     },
     "execution_count": 23,
     "metadata": {},
     "output_type": "execute_result"
    }
   ],
   "source": [
    "list(range(len(l1)-1,-11,-1))"
   ]
  },
  {
   "cell_type": "code",
   "execution_count": 24,
   "id": "0d21d9d0-cbec-443f-8716-0b093e6b7009",
   "metadata": {},
   "outputs": [],
   "source": [
    "l2=[43,543,23,75,35,86,12,54,86,97,45]"
   ]
  },
  {
   "cell_type": "code",
   "execution_count": 25,
   "id": "a3f23490-20fb-4b0d-9bbe-b51583b50303",
   "metadata": {},
   "outputs": [
    {
     "data": {
      "text/plain": [
       "[0, 2, 4, 6, 8, 10]"
      ]
     },
     "execution_count": 25,
     "metadata": {},
     "output_type": "execute_result"
    }
   ],
   "source": [
    "list(range(0,len(l2),2))"
   ]
  },
  {
   "cell_type": "code",
   "execution_count": 26,
   "id": "880b3e19-6975-4d11-b21b-3157c82a47fc",
   "metadata": {},
   "outputs": [
    {
     "name": "stdout",
     "output_type": "stream",
     "text": [
      "43\n",
      "23\n",
      "35\n",
      "12\n",
      "86\n",
      "45\n"
     ]
    }
   ],
   "source": [
    "for i in range(0,len(l2),2):\n",
    "    print(l2[i])"
   ]
  },
  {
   "cell_type": "code",
   "execution_count": 27,
   "id": "cfac2e2c-ee3d-4c8d-b34e-fecd5a0d118c",
   "metadata": {},
   "outputs": [],
   "source": [
    "l=[1,5,22,35,75,23,86,45,76,28,24]"
   ]
  },
  {
   "cell_type": "code",
   "execution_count": 28,
   "id": "cd2bcbbb-e5b5-4f32-8f56-513d402705b5",
   "metadata": {},
   "outputs": [
    {
     "data": {
      "text/plain": [
       "420"
      ]
     },
     "execution_count": 28,
     "metadata": {},
     "output_type": "execute_result"
    }
   ],
   "source": [
    "sum(l)"
   ]
  },
  {
   "cell_type": "code",
   "execution_count": 29,
   "id": "f24e9582-9d52-4823-b24f-7c2c2b260a65",
   "metadata": {},
   "outputs": [
    {
     "data": {
      "text/plain": [
       "420"
      ]
     },
     "execution_count": 29,
     "metadata": {},
     "output_type": "execute_result"
    }
   ],
   "source": [
    "add=0\n",
    "for i in l:\n",
    "    add+=i\n",
    "add"
   ]
  },
  {
   "cell_type": "code",
   "execution_count": 30,
   "id": "7f270e87-e3a2-427f-95d3-7694e70ae622",
   "metadata": {},
   "outputs": [],
   "source": [
    "t=(1,2,3,4,56,6,77,765)"
   ]
  },
  {
   "cell_type": "code",
   "execution_count": 31,
   "id": "b0bdd5f3-7b4e-4d2b-86c3-d338e902619a",
   "metadata": {},
   "outputs": [
    {
     "data": {
      "text/plain": [
       "914"
      ]
     },
     "execution_count": 31,
     "metadata": {},
     "output_type": "execute_result"
    }
   ],
   "source": [
    "sum(t)"
   ]
  },
  {
   "cell_type": "code",
   "execution_count": 32,
   "id": "65bd3297-ec15-4dac-86d0-dcd3d4c03b15",
   "metadata": {},
   "outputs": [
    {
     "data": {
      "text/plain": [
       "914"
      ]
     },
     "execution_count": 32,
     "metadata": {},
     "output_type": "execute_result"
    }
   ],
   "source": [
    "add=0\n",
    "for i in t:\n",
    "    add+=i\n",
    "add"
   ]
  },
  {
   "cell_type": "code",
   "execution_count": 33,
   "id": "951c855f-38d1-45bd-9401-60bf8900ea63",
   "metadata": {},
   "outputs": [],
   "source": [
    "s={1,2,3,4,5,6,7,8,9,12}"
   ]
  },
  {
   "cell_type": "code",
   "execution_count": 34,
   "id": "62b3e941-4538-4773-bf33-b9df53dd0e8a",
   "metadata": {},
   "outputs": [
    {
     "data": {
      "text/plain": [
       "57"
      ]
     },
     "execution_count": 34,
     "metadata": {},
     "output_type": "execute_result"
    }
   ],
   "source": [
    "sum(s)"
   ]
  },
  {
   "cell_type": "code",
   "execution_count": 35,
   "id": "7a72573d-e17e-4228-bf2b-3246d5dc8ba5",
   "metadata": {},
   "outputs": [
    {
     "data": {
      "text/plain": [
       "57"
      ]
     },
     "execution_count": 35,
     "metadata": {},
     "output_type": "execute_result"
    }
   ],
   "source": [
    "add=0\n",
    "for i in s:\n",
    "    add+=i\n",
    "add"
   ]
  },
  {
   "cell_type": "code",
   "execution_count": 36,
   "id": "db58bf1b-18c2-434a-ba26-6d50362545b7",
   "metadata": {},
   "outputs": [],
   "source": [
    "st='onepiece'"
   ]
  },
  {
   "cell_type": "code",
   "execution_count": 37,
   "id": "cf91dc89-6ece-41d3-aa63-b34a050f1d74",
   "metadata": {},
   "outputs": [
    {
     "name": "stdout",
     "output_type": "stream",
     "text": [
      "o\n",
      "n\n",
      "e\n",
      "p\n",
      "i\n",
      "e\n",
      "c\n",
      "e\n"
     ]
    }
   ],
   "source": [
    "for i in st:\n",
    "    print(i)"
   ]
  },
  {
   "cell_type": "code",
   "execution_count": 38,
   "id": "73ac4fdc-b537-4e85-bf7b-0fe70d9b35df",
   "metadata": {},
   "outputs": [],
   "source": [
    "d={'name':'luffy','anime':'one piece','enemy':['kaido','katakuri','crocodile','doflamingo']}"
   ]
  },
  {
   "cell_type": "code",
   "execution_count": 39,
   "id": "e283767b-82a7-4314-8e80-78859db14040",
   "metadata": {},
   "outputs": [
    {
     "data": {
      "text/plain": [
       "'luffy'"
      ]
     },
     "execution_count": 39,
     "metadata": {},
     "output_type": "execute_result"
    }
   ],
   "source": [
    "d['name']"
   ]
  },
  {
   "cell_type": "code",
   "execution_count": 40,
   "id": "73d49268-e837-44fe-b51f-581d5e1d8673",
   "metadata": {},
   "outputs": [
    {
     "data": {
      "text/plain": [
       "dict_keys(['name', 'anime', 'enemy'])"
      ]
     },
     "execution_count": 40,
     "metadata": {},
     "output_type": "execute_result"
    }
   ],
   "source": [
    "d.keys()"
   ]
  },
  {
   "cell_type": "code",
   "execution_count": 41,
   "id": "454e1496-b190-4c2e-8667-4fcf00bde998",
   "metadata": {},
   "outputs": [
    {
     "name": "stdout",
     "output_type": "stream",
     "text": [
      "luffy\n",
      "one piece\n",
      "['kaido', 'katakuri', 'crocodile', 'doflamingo']\n"
     ]
    }
   ],
   "source": [
    "for i in d.keys():\n",
    "    print(d[i])"
   ]
  },
  {
   "cell_type": "code",
   "execution_count": 42,
   "id": "88af2e4a-480b-4696-879b-de3d5ac9c1a7",
   "metadata": {},
   "outputs": [
    {
     "data": {
      "text/plain": [
       "dict_values(['luffy', 'one piece', ['kaido', 'katakuri', 'crocodile', 'doflamingo']])"
      ]
     },
     "execution_count": 42,
     "metadata": {},
     "output_type": "execute_result"
    }
   ],
   "source": [
    "d.values()"
   ]
  },
  {
   "cell_type": "code",
   "execution_count": 43,
   "id": "a40b7acf-3d2c-496d-bbd7-94027f62b5c3",
   "metadata": {},
   "outputs": [
    {
     "name": "stdout",
     "output_type": "stream",
     "text": [
      "luffy\n",
      "one piece\n",
      "['kaido', 'katakuri', 'crocodile', 'doflamingo']\n"
     ]
    }
   ],
   "source": [
    "for i in d.values():\n",
    "    print(i)"
   ]
  },
  {
   "cell_type": "code",
   "execution_count": 44,
   "id": "918694f6-b5cd-480e-aec0-09e3e92b91d4",
   "metadata": {},
   "outputs": [
    {
     "name": "stdout",
     "output_type": "stream",
     "text": [
      "('name', 'luffy')\n",
      "('anime', 'one piece')\n",
      "('enemy', ['kaido', 'katakuri', 'crocodile', 'doflamingo'])\n"
     ]
    }
   ],
   "source": [
    "for i in d.items():\n",
    "    print(i)"
   ]
  },
  {
   "cell_type": "code",
   "execution_count": 45,
   "id": "3ae48556-7922-4a4c-b099-3ce33ea4a68d",
   "metadata": {},
   "outputs": [
    {
     "name": "stdout",
     "output_type": "stream",
     "text": [
      "name : luffy\n",
      "anime : one piece\n",
      "enemy : ['kaido', 'katakuri', 'crocodile', 'doflamingo']\n"
     ]
    }
   ],
   "source": [
    "for i,j in d.items():\n",
    "    print(i,':',j)"
   ]
  }
 ],
 "metadata": {
  "kernelspec": {
   "display_name": "Python 3 (ipykernel)",
   "language": "python",
   "name": "python3"
  },
  "language_info": {
   "codemirror_mode": {
    "name": "ipython",
    "version": 3
   },
   "file_extension": ".py",
   "mimetype": "text/x-python",
   "name": "python",
   "nbconvert_exporter": "python",
   "pygments_lexer": "ipython3",
   "version": "3.10.8"
  }
 },
 "nbformat": 4,
 "nbformat_minor": 5
}
