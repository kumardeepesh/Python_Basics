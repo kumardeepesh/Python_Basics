{
 "cells": [
  {
   "cell_type": "code",
   "execution_count": 1,
   "id": "280e3731-ccb3-45ea-988f-385777e2a3e4",
   "metadata": {},
   "outputs": [
    {
     "data": {
      "text/plain": [
       "True"
      ]
     },
     "execution_count": 1,
     "metadata": {},
     "output_type": "execute_result"
    }
   ],
   "source": [
    "1==1"
   ]
  },
  {
   "cell_type": "code",
   "execution_count": 2,
   "id": "629c958e-a4d8-41a6-8564-83793153b4d8",
   "metadata": {},
   "outputs": [],
   "source": [
    "a=90"
   ]
  },
  {
   "cell_type": "code",
   "execution_count": 3,
   "id": "597c575d-aab1-49ac-a23c-cfeeed4ebcac",
   "metadata": {},
   "outputs": [
    {
     "data": {
      "text/plain": [
       "90"
      ]
     },
     "execution_count": 3,
     "metadata": {},
     "output_type": "execute_result"
    }
   ],
   "source": [
    "a"
   ]
  },
  {
   "cell_type": "code",
   "execution_count": 4,
   "id": "3675f25f-6d4b-499a-9b8a-08cf4d1c20be",
   "metadata": {},
   "outputs": [
    {
     "data": {
      "text/plain": [
       "int"
      ]
     },
     "execution_count": 4,
     "metadata": {},
     "output_type": "execute_result"
    }
   ],
   "source": [
    "type(a)"
   ]
  },
  {
   "cell_type": "code",
   "execution_count": 5,
   "id": "4e770151-e5e8-4882-a7b6-1e240fe4df43",
   "metadata": {},
   "outputs": [],
   "source": [
    "x=5.38"
   ]
  },
  {
   "cell_type": "code",
   "execution_count": 6,
   "id": "eaade912-9b3b-4902-94f8-710f4b5a76df",
   "metadata": {},
   "outputs": [
    {
     "data": {
      "text/plain": [
       "float"
      ]
     },
     "execution_count": 6,
     "metadata": {},
     "output_type": "execute_result"
    }
   ],
   "source": [
    "type(x)"
   ]
  },
  {
   "cell_type": "code",
   "execution_count": 7,
   "id": "be9716c7-40fb-4af9-b0ae-83be03a2ae05",
   "metadata": {},
   "outputs": [
    {
     "data": {
      "text/plain": [
       "float"
      ]
     },
     "execution_count": 7,
     "metadata": {},
     "output_type": "execute_result"
    }
   ],
   "source": [
    "p=5.23456789876545678\n",
    "type(p)"
   ]
  },
  {
   "cell_type": "code",
   "execution_count": 8,
   "id": "a237012c-233c-4e7f-80bb-9f0398b46650",
   "metadata": {},
   "outputs": [
    {
     "data": {
      "text/plain": [
       "str"
      ]
     },
     "execution_count": 8,
     "metadata": {},
     "output_type": "execute_result"
    }
   ],
   "source": [
    "d=\"asdfgh\"\n",
    "type(d)"
   ]
  },
  {
   "cell_type": "code",
   "execution_count": 9,
   "id": "61d4c2c2-9cf1-44b8-9538-d2760c84f9a2",
   "metadata": {},
   "outputs": [
    {
     "data": {
      "text/plain": [
       "str"
      ]
     },
     "execution_count": 9,
     "metadata": {},
     "output_type": "execute_result"
    }
   ],
   "source": [
    "s='asdfgh'\n",
    "type(s)"
   ]
  },
  {
   "cell_type": "code",
   "execution_count": 10,
   "id": "c529e30a-50a5-458f-9b77-ba69a699f0c6",
   "metadata": {},
   "outputs": [
    {
     "data": {
      "text/plain": [
       "True"
      ]
     },
     "execution_count": 10,
     "metadata": {},
     "output_type": "execute_result"
    }
   ],
   "source": [
    "d==s"
   ]
  },
  {
   "cell_type": "code",
   "execution_count": 11,
   "id": "00572eff-c0bd-4c15-839f-eeab05d2ca91",
   "metadata": {},
   "outputs": [
    {
     "data": {
      "text/plain": [
       "bool"
      ]
     },
     "execution_count": 11,
     "metadata": {},
     "output_type": "execute_result"
    }
   ],
   "source": [
    "q=True\n",
    "type(q)"
   ]
  },
  {
   "cell_type": "code",
   "execution_count": 12,
   "id": "f6384589-7fe3-476a-9d7f-2f5db4e12492",
   "metadata": {},
   "outputs": [
    {
     "data": {
      "text/plain": [
       "91"
      ]
     },
     "execution_count": 12,
     "metadata": {},
     "output_type": "execute_result"
    }
   ],
   "source": [
    "a+q"
   ]
  },
  {
   "cell_type": "code",
   "execution_count": 13,
   "id": "2daf797a-3276-4ce0-ab0c-1d93ed1cd3b6",
   "metadata": {},
   "outputs": [
    {
     "data": {
      "text/plain": [
       "int"
      ]
     },
     "execution_count": 13,
     "metadata": {},
     "output_type": "execute_result"
    }
   ],
   "source": [
    "w=q+q\n",
    "\n",
    "type(w)"
   ]
  },
  {
   "cell_type": "code",
   "execution_count": 14,
   "id": "fb6de393-bc75-4645-a070-41813a4efe11",
   "metadata": {},
   "outputs": [
    {
     "data": {
      "text/plain": [
       "2"
      ]
     },
     "execution_count": 14,
     "metadata": {},
     "output_type": "execute_result"
    }
   ],
   "source": [
    "w"
   ]
  },
  {
   "cell_type": "code",
   "execution_count": 15,
   "id": "90a4cbd8-b3ec-4426-a3b5-5b16f23ebafc",
   "metadata": {},
   "outputs": [
    {
     "ename": "ZeroDivisionError",
     "evalue": "division by zero",
     "output_type": "error",
     "traceback": [
      "\u001b[0;31m---------------------------------------------------------------------------\u001b[0m",
      "\u001b[0;31mZeroDivisionError\u001b[0m                         Traceback (most recent call last)",
      "Cell \u001b[0;32mIn[15], line 1\u001b[0m\n\u001b[0;32m----> 1\u001b[0m \u001b[38;5;28;43;01mTrue\u001b[39;49;00m\u001b[38;5;241;43m/\u001b[39;49m\u001b[38;5;28;43;01mFalse\u001b[39;49;00m\n",
      "\u001b[0;31mZeroDivisionError\u001b[0m: division by zero"
     ]
    }
   ],
   "source": [
    "True/False"
   ]
  },
  {
   "cell_type": "code",
   "execution_count": 16,
   "id": "f922f051-04b4-44c0-8d67-2fcdfe0d7e7d",
   "metadata": {},
   "outputs": [
    {
     "ename": "ZeroDivisionError",
     "evalue": "division by zero",
     "output_type": "error",
     "traceback": [
      "\u001b[0;31m---------------------------------------------------------------------------\u001b[0m",
      "\u001b[0;31mZeroDivisionError\u001b[0m                         Traceback (most recent call last)",
      "Cell \u001b[0;32mIn[16], line 1\u001b[0m\n\u001b[0;32m----> 1\u001b[0m \u001b[38;5;241;43m1\u001b[39;49m\u001b[38;5;241;43m/\u001b[39;49m\u001b[38;5;241;43m0\u001b[39;49m\n",
      "\u001b[0;31mZeroDivisionError\u001b[0m: division by zero"
     ]
    }
   ],
   "source": [
    "1/0"
   ]
  },
  {
   "cell_type": "code",
   "execution_count": 17,
   "id": "509d5f7e-0569-4901-a9e1-02551bd73cb4",
   "metadata": {},
   "outputs": [
    {
     "data": {
      "text/plain": [
       "complex"
      ]
     },
     "execution_count": 17,
     "metadata": {},
     "output_type": "execute_result"
    }
   ],
   "source": [
    "z=1+3j\n",
    "type(z)"
   ]
  },
  {
   "cell_type": "code",
   "execution_count": 18,
   "id": "d15e3879-30ed-43be-852c-dd27d996c1c3",
   "metadata": {},
   "outputs": [
    {
     "data": {
      "text/plain": [
       "complex"
      ]
     },
     "execution_count": 18,
     "metadata": {},
     "output_type": "execute_result"
    }
   ],
   "source": [
    "e=2+9J\n",
    "type(e)"
   ]
  },
  {
   "cell_type": "code",
   "execution_count": 19,
   "id": "6274fa42-fbfa-4546-91f2-b2aefdb8d833",
   "metadata": {},
   "outputs": [
    {
     "data": {
      "text/plain": [
       "(3+12j)"
      ]
     },
     "execution_count": 19,
     "metadata": {},
     "output_type": "execute_result"
    }
   ],
   "source": [
    "z+e"
   ]
  },
  {
   "cell_type": "code",
   "execution_count": 20,
   "id": "856302be-be43-46c5-a9e5-ef221ab8dac2",
   "metadata": {},
   "outputs": [
    {
     "data": {
      "text/plain": [
       "3.0"
      ]
     },
     "execution_count": 20,
     "metadata": {},
     "output_type": "execute_result"
    }
   ],
   "source": [
    "z.imag"
   ]
  },
  {
   "cell_type": "code",
   "execution_count": 21,
   "id": "13a829e3-3085-4b3f-b15c-03042697402e",
   "metadata": {},
   "outputs": [
    {
     "data": {
      "text/plain": [
       "0"
      ]
     },
     "execution_count": 21,
     "metadata": {},
     "output_type": "execute_result"
    }
   ],
   "source": [
    "a.imag"
   ]
  },
  {
   "cell_type": "code",
   "execution_count": 22,
   "id": "d0412e08-44e6-49bc-8540-23b1237285ec",
   "metadata": {},
   "outputs": [
    {
     "data": {
      "text/plain": [
       "<function complex.conjugate()>"
      ]
     },
     "execution_count": 22,
     "metadata": {},
     "output_type": "execute_result"
    }
   ],
   "source": [
    "z.conjugate"
   ]
  },
  {
   "cell_type": "code",
   "execution_count": 23,
   "id": "59a59a42-3269-4715-b3c2-911cc0af44bf",
   "metadata": {},
   "outputs": [
    {
     "data": {
      "text/plain": [
       "\u001b[0;31mInit signature:\u001b[0m \u001b[0mtype\u001b[0m\u001b[0;34m(\u001b[0m\u001b[0mself\u001b[0m\u001b[0;34m,\u001b[0m \u001b[0;34m/\u001b[0m\u001b[0;34m,\u001b[0m \u001b[0;34m*\u001b[0m\u001b[0margs\u001b[0m\u001b[0;34m,\u001b[0m \u001b[0;34m**\u001b[0m\u001b[0mkwargs\u001b[0m\u001b[0;34m)\u001b[0m\u001b[0;34m\u001b[0m\u001b[0;34m\u001b[0m\u001b[0m\n",
       "\u001b[0;31mDocstring:\u001b[0m     \n",
       "type(object) -> the object's type\n",
       "type(name, bases, dict, **kwds) -> a new type\n",
       "\u001b[0;31mType:\u001b[0m           type\n",
       "\u001b[0;31mSubclasses:\u001b[0m     ABCMeta, EnumMeta, NamedTupleMeta, _TypedDictMeta, _ABC, MetaHasDescriptors, PyCStructType, UnionType, PyCPointerType, PyCArrayType, ...\n"
      ]
     },
     "metadata": {},
     "output_type": "display_data"
    }
   ],
   "source": [
    "type?"
   ]
  },
  {
   "cell_type": "code",
   "execution_count": 24,
   "id": "d03ce2aa-352e-45ec-8493-4be1423d066c",
   "metadata": {},
   "outputs": [
    {
     "data": {
      "text/plain": [
       "\u001b[0;31mType:\u001b[0m        complex\n",
       "\u001b[0;31mString form:\u001b[0m (1+3j)\n",
       "\u001b[0;31mDocstring:\u001b[0m  \n",
       "Create a complex number from a real part and an optional imaginary part.\n",
       "\n",
       "This is equivalent to (real + imag*1j) where imag defaults to 0.\n"
      ]
     },
     "metadata": {},
     "output_type": "display_data"
    }
   ],
   "source": [
    "z?"
   ]
  },
  {
   "cell_type": "code",
   "execution_count": 25,
   "id": "2f011531-b3fe-4aba-8349-bb6068897720",
   "metadata": {},
   "outputs": [
    {
     "name": "stdout",
     "output_type": "stream",
     "text": [
      "the fast (1+3j)\n"
     ]
    }
   ],
   "source": [
    "print(\"the \"+ 'fast',    z)"
   ]
  },
  {
   "cell_type": "code",
   "execution_count": 26,
   "id": "01744174-4209-4036-becf-107a493f4c7b",
   "metadata": {},
   "outputs": [
    {
     "name": "stdout",
     "output_type": "stream",
     "text": [
      "True\n"
     ]
    }
   ],
   "source": [
    "print(q)"
   ]
  },
  {
   "cell_type": "code",
   "execution_count": 27,
   "id": "259e21b7-cd08-4cba-8e76-9cb388e768f4",
   "metadata": {},
   "outputs": [],
   "source": [
    "s=\"asdfghjklqwertyuiopzxcvbnm\""
   ]
  },
  {
   "cell_type": "code",
   "execution_count": 28,
   "id": "bf6c6255-ed55-41c4-831e-08565233b13f",
   "metadata": {},
   "outputs": [
    {
     "data": {
      "text/plain": [
       "'a'"
      ]
     },
     "execution_count": 28,
     "metadata": {},
     "output_type": "execute_result"
    }
   ],
   "source": [
    "s[0]"
   ]
  },
  {
   "cell_type": "code",
   "execution_count": 29,
   "id": "9f7d043f-7205-4f2b-9f67-d4076f35d47a",
   "metadata": {},
   "outputs": [
    {
     "data": {
      "text/plain": [
       "'k'"
      ]
     },
     "execution_count": 29,
     "metadata": {},
     "output_type": "execute_result"
    }
   ],
   "source": [
    "s[7]"
   ]
  },
  {
   "cell_type": "code",
   "execution_count": 30,
   "id": "d59315b9-3672-48c2-8732-41ec6804e496",
   "metadata": {},
   "outputs": [
    {
     "data": {
      "text/plain": [
       "'a'"
      ]
     },
     "execution_count": 30,
     "metadata": {},
     "output_type": "execute_result"
    }
   ],
   "source": [
    "s[-26]"
   ]
  },
  {
   "cell_type": "code",
   "execution_count": 31,
   "id": "717abe24-225c-4b88-8ddc-80223681fdd3",
   "metadata": {},
   "outputs": [
    {
     "data": {
      "text/plain": [
       "'asdfghjklqwertyuiopzxcvbnm'"
      ]
     },
     "execution_count": 31,
     "metadata": {},
     "output_type": "execute_result"
    }
   ],
   "source": [
    "s[::]"
   ]
  },
  {
   "cell_type": "code",
   "execution_count": 32,
   "id": "4aee6ee9-1176-496d-9a0a-fb3f624d6156",
   "metadata": {},
   "outputs": [
    {
     "data": {
      "text/plain": [
       "'mnbvcxzpoiuytrewqlkjhgfdsa'"
      ]
     },
     "execution_count": 32,
     "metadata": {},
     "output_type": "execute_result"
    }
   ],
   "source": [
    "s[::-1]"
   ]
  },
  {
   "cell_type": "code",
   "execution_count": 33,
   "id": "a8039c47-b30e-44a9-abe5-037c4d058e2c",
   "metadata": {},
   "outputs": [
    {
     "data": {
      "text/plain": [
       "'mbczouteqkhfs'"
      ]
     },
     "execution_count": 33,
     "metadata": {},
     "output_type": "execute_result"
    }
   ],
   "source": [
    "s[::-2]"
   ]
  },
  {
   "cell_type": "code",
   "execution_count": 34,
   "id": "744d5c63-5ac1-4ce8-a2b5-c3e39bd8dd45",
   "metadata": {},
   "outputs": [
    {
     "data": {
      "text/plain": [
       "'kjhgfd'"
      ]
     },
     "execution_count": 34,
     "metadata": {},
     "output_type": "execute_result"
    }
   ],
   "source": [
    " s[7:1:-1]"
   ]
  },
  {
   "cell_type": "code",
   "execution_count": 35,
   "id": "bdab4d74-7aed-45da-a31f-bc229e55e25e",
   "metadata": {},
   "outputs": [
    {
     "data": {
      "text/plain": [
       "'mnbvcxzpoiuytrewqlkjhgfds'"
      ]
     },
     "execution_count": 35,
     "metadata": {},
     "output_type": "execute_result"
    }
   ],
   "source": [
    "s[:-26:-1]"
   ]
  },
  {
   "cell_type": "code",
   "execution_count": 36,
   "id": "742e8be2-9b5a-48a1-822e-f26d67bef8f2",
   "metadata": {},
   "outputs": [
    {
     "data": {
      "text/plain": [
       "'mnbvcxzpoiuytrewqlkjhgfdsa'"
      ]
     },
     "execution_count": 36,
     "metadata": {},
     "output_type": "execute_result"
    }
   ],
   "source": [
    "s[:-90:-1]"
   ]
  },
  {
   "cell_type": "code",
   "execution_count": 37,
   "id": "3df74421-d72b-44cc-8004-9513c786b4fa",
   "metadata": {},
   "outputs": [],
   "source": [
    "c=200"
   ]
  },
  {
   "cell_type": "code",
   "execution_count": 38,
   "id": "a07c04bd-f53f-4929-b318-61d27332aa5b",
   "metadata": {},
   "outputs": [
    {
     "data": {
      "text/plain": [
       "200"
      ]
     },
     "execution_count": 38,
     "metadata": {},
     "output_type": "execute_result"
    }
   ],
   "source": [
    "c"
   ]
  },
  {
   "cell_type": "code",
   "execution_count": 39,
   "id": "d6c8580d-b48b-482e-8ca1-8763a7677b22",
   "metadata": {},
   "outputs": [],
   "source": [
    "s=\"this is my class\""
   ]
  },
  {
   "cell_type": "code",
   "execution_count": 40,
   "id": "708274a9-d3d9-4cb5-984e-d6ba041a0059",
   "metadata": {},
   "outputs": [
    {
     "data": {
      "text/plain": [
       "'this is my classthis is my class'"
      ]
     },
     "execution_count": 40,
     "metadata": {},
     "output_type": "execute_result"
    }
   ],
   "source": [
    "a=s+s\n",
    "a"
   ]
  },
  {
   "cell_type": "code",
   "execution_count": 41,
   "id": "439c3f20-3af0-4b3b-9e3a-c1e1c4046cd4",
   "metadata": {},
   "outputs": [
    {
     "data": {
      "text/plain": [
       "16"
      ]
     },
     "execution_count": 41,
     "metadata": {},
     "output_type": "execute_result"
    }
   ],
   "source": [
    "len(s)"
   ]
  },
  {
   "cell_type": "code",
   "execution_count": 42,
   "id": "2f6d0c46-6449-4c07-a54e-30c297eb5868",
   "metadata": {},
   "outputs": [
    {
     "data": {
      "text/plain": [
       "3"
      ]
     },
     "execution_count": 42,
     "metadata": {},
     "output_type": "execute_result"
    }
   ],
   "source": [
    "s.find('s')"
   ]
  },
  {
   "cell_type": "code",
   "execution_count": 43,
   "id": "16804d00-4321-457a-a7b5-345da32ffaad",
   "metadata": {},
   "outputs": [
    {
     "data": {
      "text/plain": [
       "-1"
      ]
     },
     "execution_count": 43,
     "metadata": {},
     "output_type": "execute_result"
    }
   ],
   "source": [
    "s.find('zs')"
   ]
  },
  {
   "cell_type": "code",
   "execution_count": 44,
   "id": "9e8e56b2-2883-447d-b757-20f0c9d77db7",
   "metadata": {},
   "outputs": [
    {
     "data": {
      "text/plain": [
       "'This is my class'"
      ]
     },
     "execution_count": 44,
     "metadata": {},
     "output_type": "execute_result"
    }
   ],
   "source": [
    "s.capitalize()"
   ]
  },
  {
   "cell_type": "code",
   "execution_count": 45,
   "id": "cb6c62d9-14a0-4f82-ae25-4b3c79c6df76",
   "metadata": {},
   "outputs": [
    {
     "data": {
      "text/plain": [
       "4"
      ]
     },
     "execution_count": 45,
     "metadata": {},
     "output_type": "execute_result"
    }
   ],
   "source": [
    "s.count('s')"
   ]
  },
  {
   "cell_type": "code",
   "execution_count": 46,
   "id": "ce854017-3f28-47f6-8c20-2cd2cce25048",
   "metadata": {},
   "outputs": [
    {
     "data": {
      "text/plain": [
       "2"
      ]
     },
     "execution_count": 46,
     "metadata": {},
     "output_type": "execute_result"
    }
   ],
   "source": [
    "s.count('is')"
   ]
  },
  {
   "cell_type": "code",
   "execution_count": 47,
   "id": "03db6521-4524-4986-b613-3670eeefb352",
   "metadata": {},
   "outputs": [
    {
     "data": {
      "text/plain": [
       "0"
      ]
     },
     "execution_count": 47,
     "metadata": {},
     "output_type": "execute_result"
    }
   ],
   "source": [
    "s.count('123')"
   ]
  },
  {
   "cell_type": "code",
   "execution_count": 48,
   "id": "fc296291-9402-49ed-bec7-b46b1ca92afb",
   "metadata": {},
   "outputs": [
    {
     "data": {
      "text/plain": [
       "'THIS IS MY CLASS'"
      ]
     },
     "execution_count": 48,
     "metadata": {},
     "output_type": "execute_result"
    }
   ],
   "source": [
    "s.upper()"
   ]
  },
  {
   "cell_type": "code",
   "execution_count": 49,
   "id": "2f5213fe-f808-4abf-9724-c8c05533c08a",
   "metadata": {},
   "outputs": [
    {
     "data": {
      "text/plain": [
       "'this is my class'"
      ]
     },
     "execution_count": 49,
     "metadata": {},
     "output_type": "execute_result"
    }
   ],
   "source": [
    "s"
   ]
  },
  {
   "cell_type": "code",
   "execution_count": 50,
   "id": "310f01f0-f6c4-435a-b3a8-8e98974439a1",
   "metadata": {},
   "outputs": [
    {
     "data": {
      "text/plain": [
       "'This Is My Class'"
      ]
     },
     "execution_count": 50,
     "metadata": {},
     "output_type": "execute_result"
    }
   ],
   "source": [
    "s.title()"
   ]
  },
  {
   "cell_type": "code",
   "execution_count": 51,
   "id": "30b76624-45b3-440e-9816-3179766b3fe3",
   "metadata": {},
   "outputs": [
    {
     "data": {
      "text/plain": [
       "'this is my class'"
      ]
     },
     "execution_count": 51,
     "metadata": {},
     "output_type": "execute_result"
    }
   ],
   "source": [
    "s"
   ]
  },
  {
   "cell_type": "code",
   "execution_count": 52,
   "id": "ad8c65c1-f447-4499-a2f1-e21bf2a126a4",
   "metadata": {},
   "outputs": [
    {
     "data": {
      "text/plain": [
       "'this is my class+!@#$%^&*()_-=1'"
      ]
     },
     "execution_count": 52,
     "metadata": {},
     "output_type": "execute_result"
    }
   ],
   "source": [
    "s+'+!@#$%^&*()_-=1'"
   ]
  },
  {
   "cell_type": "code",
   "execution_count": 53,
   "id": "19d9111f-ed97-4428-9b45-a68736db005b",
   "metadata": {},
   "outputs": [
    {
     "data": {
      "text/plain": [
       "'this is my class123456'"
      ]
     },
     "execution_count": 53,
     "metadata": {},
     "output_type": "execute_result"
    }
   ],
   "source": [
    "s + str(123456)"
   ]
  },
  {
   "cell_type": "code",
   "execution_count": 54,
   "id": "e0221842-7734-422d-b119-d509f587c076",
   "metadata": {},
   "outputs": [
    {
     "data": {
      "text/plain": [
       "'this is my classthis is my classthis is my class'"
      ]
     },
     "execution_count": 54,
     "metadata": {},
     "output_type": "execute_result"
    }
   ],
   "source": [
    "s*3"
   ]
  },
  {
   "cell_type": "code",
   "execution_count": 55,
   "id": "d70317b8-b3ee-4af2-b584-08cf7e40d89d",
   "metadata": {},
   "outputs": [],
   "source": [
    "# ###'''sdfghjk'''\n",
    "# fghj\n",
    "# fghjkl\n",
    "# wertyui\n",
    "# wertyui"
   ]
  },
  {
   "cell_type": "code",
   "execution_count": 56,
   "id": "d1bbb77d-5df0-493e-81c9-db0d41ef8e95",
   "metadata": {},
   "outputs": [
    {
     "data": {
      "text/plain": [
       "140660315940672"
      ]
     },
     "execution_count": 56,
     "metadata": {},
     "output_type": "execute_result"
    }
   ],
   "source": [
    "id(s)"
   ]
  }
 ],
 "metadata": {
  "kernelspec": {
   "display_name": "Python 3 (ipykernel)",
   "language": "python",
   "name": "python3"
  },
  "language_info": {
   "codemirror_mode": {
    "name": "ipython",
    "version": 3
   },
   "file_extension": ".py",
   "mimetype": "text/x-python",
   "name": "python",
   "nbconvert_exporter": "python",
   "pygments_lexer": "ipython3",
   "version": "3.10.8"
  }
 },
 "nbformat": 4,
 "nbformat_minor": 5
}
