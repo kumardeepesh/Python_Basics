{
 "cells": [
  {
   "cell_type": "code",
   "execution_count": 1,
   "id": "441915be-b291-4fdf-99d0-ebadc4d2f54f",
   "metadata": {},
   "outputs": [],
   "source": [
    "n=8\n",
    "p=3"
   ]
  },
  {
   "cell_type": "code",
   "execution_count": 2,
   "id": "88a92aea-8282-4ffc-837c-e5ba9ca3fa33",
   "metadata": {},
   "outputs": [],
   "source": [
    "def test(n,p):\n",
    "    return n**p"
   ]
  },
  {
   "cell_type": "code",
   "execution_count": 3,
   "id": "90d65a4d-a091-4562-b4b4-c93657ea1f0a",
   "metadata": {},
   "outputs": [
    {
     "data": {
      "text/plain": [
       "512"
      ]
     },
     "execution_count": 3,
     "metadata": {},
     "output_type": "execute_result"
    }
   ],
   "source": [
    "test(n,p)"
   ]
  },
  {
   "cell_type": "code",
   "execution_count": 4,
   "id": "ff3f8c12-71f1-476d-bbf1-db268cb14916",
   "metadata": {},
   "outputs": [
    {
     "data": {
      "text/plain": [
       "512"
      ]
     },
     "execution_count": 4,
     "metadata": {},
     "output_type": "execute_result"
    }
   ],
   "source": [
    "test(8,3)"
   ]
  },
  {
   "cell_type": "code",
   "execution_count": 5,
   "id": "c19652c7-060e-4461-a74f-c3cdafc4dd8a",
   "metadata": {},
   "outputs": [
    {
     "data": {
      "text/plain": [
       "<function __main__.<lambda>(n, p)>"
      ]
     },
     "execution_count": 5,
     "metadata": {},
     "output_type": "execute_result"
    }
   ],
   "source": [
    "lambda n,p:n**p"
   ]
  },
  {
   "cell_type": "code",
   "execution_count": 6,
   "id": "ab4e710b-82ee-463d-9663-ce4f0d401377",
   "metadata": {},
   "outputs": [],
   "source": [
    "a=lambda n,p:n**p"
   ]
  },
  {
   "cell_type": "code",
   "execution_count": 7,
   "id": "b0836ffc-289c-4fe9-b0dc-441d0d3983b4",
   "metadata": {},
   "outputs": [
    {
     "data": {
      "text/plain": [
       "512"
      ]
     },
     "execution_count": 7,
     "metadata": {},
     "output_type": "execute_result"
    }
   ],
   "source": [
    "a(8,3)"
   ]
  },
  {
   "cell_type": "code",
   "execution_count": 8,
   "id": "0ae6741b-fcf2-4e83-900b-3dd2dbbe9b26",
   "metadata": {},
   "outputs": [],
   "source": [
    "add=lambda a,b:a+b"
   ]
  },
  {
   "cell_type": "code",
   "execution_count": 9,
   "id": "037f5fd6-3dee-4b12-a478-0558dad27765",
   "metadata": {},
   "outputs": [
    {
     "data": {
      "text/plain": [
       "17"
      ]
     },
     "execution_count": 9,
     "metadata": {},
     "output_type": "execute_result"
    }
   ],
   "source": [
    "add(9,8)"
   ]
  },
  {
   "cell_type": "code",
   "execution_count": 10,
   "id": "a7317f95-7288-4ca0-b705-e780abe5e656",
   "metadata": {},
   "outputs": [],
   "source": [
    "ctf=lambda c:(9/5)*c +32"
   ]
  },
  {
   "cell_type": "code",
   "execution_count": 11,
   "id": "ffe313f0-7cfe-4b61-8b33-5936c9357dbb",
   "metadata": {},
   "outputs": [
    {
     "data": {
      "text/plain": [
       "-40.0"
      ]
     },
     "execution_count": 11,
     "metadata": {},
     "output_type": "execute_result"
    }
   ],
   "source": [
    "ctf(-40)"
   ]
  },
  {
   "cell_type": "code",
   "execution_count": 12,
   "id": "ed58bff1-5207-4a66-85c6-d98ce3925d7b",
   "metadata": {},
   "outputs": [
    {
     "data": {
      "text/plain": [
       "98.60000000000001"
      ]
     },
     "execution_count": 12,
     "metadata": {},
     "output_type": "execute_result"
    }
   ],
   "source": [
    "ctf(37)"
   ]
  },
  {
   "cell_type": "code",
   "execution_count": 13,
   "id": "88eae940-ff4e-4f39-9cec-b5f93a8aeab6",
   "metadata": {},
   "outputs": [],
   "source": [
    "maxx=lambda x,y: x if x>y else y"
   ]
  },
  {
   "cell_type": "code",
   "execution_count": 14,
   "id": "ae44e0f8-57f7-41dd-b4ff-2a6fe9cc7748",
   "metadata": {},
   "outputs": [
    {
     "data": {
      "text/plain": [
       "9"
      ]
     },
     "execution_count": 14,
     "metadata": {},
     "output_type": "execute_result"
    }
   ],
   "source": [
    "maxx(9,7)"
   ]
  },
  {
   "cell_type": "code",
   "execution_count": 15,
   "id": "a49db035-4df2-4a9d-859b-8a553994c965",
   "metadata": {},
   "outputs": [],
   "source": [
    "s='monkey d luffy'"
   ]
  },
  {
   "cell_type": "code",
   "execution_count": 16,
   "id": "4559e8fd-48c9-4911-af0e-15bebce23a32",
   "metadata": {},
   "outputs": [],
   "source": [
    "length=lambda s:len(s)"
   ]
  },
  {
   "cell_type": "code",
   "execution_count": 17,
   "id": "39988ff0-cb76-4f3a-b932-baae0421b79e",
   "metadata": {},
   "outputs": [
    {
     "data": {
      "text/plain": [
       "14"
      ]
     },
     "execution_count": 17,
     "metadata": {},
     "output_type": "execute_result"
    }
   ],
   "source": [
    "length(s)"
   ]
  }
 ],
 "metadata": {
  "kernelspec": {
   "display_name": "Python 3 (ipykernel)",
   "language": "python",
   "name": "python3"
  },
  "language_info": {
   "codemirror_mode": {
    "name": "ipython",
    "version": 3
   },
   "file_extension": ".py",
   "mimetype": "text/x-python",
   "name": "python",
   "nbconvert_exporter": "python",
   "pygments_lexer": "ipython3",
   "version": "3.10.8"
  }
 },
 "nbformat": 4,
 "nbformat_minor": 5
}
